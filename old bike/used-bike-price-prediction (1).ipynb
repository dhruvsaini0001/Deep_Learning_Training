{
 "cells": [
  {
   "cell_type": "code",
   "execution_count": 8,
   "id": "700f8953",
   "metadata": {
    "_cell_guid": "b1076dfc-b9ad-4769-8c92-a6c4dae69d19",
    "_uuid": "8f2839f25d086af736a60e9eeb907d3b93b6e0e5",
    "execution": {
     "iopub.execute_input": "2021-10-20T09:40:03.282713Z",
     "iopub.status.busy": "2021-10-20T09:40:03.281490Z",
     "iopub.status.idle": "2021-10-20T09:40:04.516048Z",
     "shell.execute_reply": "2021-10-20T09:40:04.515292Z",
     "shell.execute_reply.started": "2021-10-20T09:18:00.672379Z"
    },
    "papermill": {
     "duration": 1.264533,
     "end_time": "2021-10-20T09:40:04.516253",
     "exception": false,
     "start_time": "2021-10-20T09:40:03.251720",
     "status": "completed"
    },
    "tags": []
   },
   "outputs": [],
   "source": [
    "import numpy as np\n",
    "import pandas as pd\n",
    "import matplotlib.pyplot as plt\n",
    "import seaborn as sns\n",
    "import warnings\n",
    "warnings.filterwarnings('ignore')\n",
    "from sklearn.preprocessing import StandardScaler\n",
    "from sklearn.model_selection import train_test_split"
   ]
  },
  {
   "cell_type": "code",
   "execution_count": null,
   "id": "fdb91784",
   "metadata": {
    "execution": {
     "iopub.execute_input": "2021-10-20T09:40:04.572556Z",
     "iopub.status.busy": "2021-10-20T09:40:04.571804Z",
     "iopub.status.idle": "2021-10-20T09:40:04.582476Z",
     "shell.execute_reply": "2021-10-20T09:40:04.583023Z",
     "shell.execute_reply.started": "2021-10-20T09:18:00.679657Z"
    },
    "papermill": {
     "duration": 0.041327,
     "end_time": "2021-10-20T09:40:04.583205",
     "exception": false,
     "start_time": "2021-10-20T09:40:04.541878",
     "status": "completed"
    },
    "tags": []
   },
   "outputs": [],
   "source": []
  },
  {
   "cell_type": "code",
   "execution_count": 9,
   "id": "7d8bcacc",
   "metadata": {
    "execution": {
     "iopub.execute_input": "2021-10-20T09:40:04.637333Z",
     "iopub.status.busy": "2021-10-20T09:40:04.636549Z",
     "iopub.status.idle": "2021-10-20T09:40:04.757988Z",
     "shell.execute_reply": "2021-10-20T09:40:04.757181Z",
     "shell.execute_reply.started": "2021-10-20T09:18:00.699800Z"
    },
    "papermill": {
     "duration": 0.149884,
     "end_time": "2021-10-20T09:40:04.758166",
     "exception": false,
     "start_time": "2021-10-20T09:40:04.608282",
     "status": "completed"
    },
    "tags": []
   },
   "outputs": [],
   "source": [
    "df_out = pd.read_csv('Used_Bikes.csv')\n"
   ]
  },
  {
   "cell_type": "code",
   "execution_count": 8,
   "id": "8ee635a2",
   "metadata": {
    "execution": {
     "iopub.execute_input": "2021-10-20T09:40:04.815127Z",
     "iopub.status.busy": "2021-10-20T09:40:04.814357Z",
     "iopub.status.idle": "2021-10-20T09:40:04.838100Z",
     "shell.execute_reply": "2021-10-20T09:40:04.838605Z",
     "shell.execute_reply.started": "2021-10-20T09:18:00.772062Z"
    },
    "papermill": {
     "duration": 0.053594,
     "end_time": "2021-10-20T09:40:04.838786",
     "exception": false,
     "start_time": "2021-10-20T09:40:04.785192",
     "status": "completed"
    },
    "tags": []
   },
   "outputs": [
    {
     "name": "stdout",
     "output_type": "stream",
     "text": [
      "Data shape is :  (32648, 8)\n"
     ]
    },
    {
     "data": {
      "text/plain": [
       "bike_name     0\n",
       "price         0\n",
       "city          0\n",
       "kms_driven    0\n",
       "owner         0\n",
       "age           0\n",
       "power         0\n",
       "brand         0\n",
       "dtype: int64"
      ]
     },
     "execution_count": 8,
     "metadata": {},
     "output_type": "execute_result"
    }
   ],
   "source": [
    "# Shape , Missing values\n",
    "print(\"Data shape is : \",data.shape)\n",
    "data.isna().sum()"
   ]
  },
  {
   "cell_type": "code",
   "execution_count": 4,
   "id": "0048ae65",
   "metadata": {
    "execution": {
     "iopub.execute_input": "2021-10-20T09:40:04.900535Z",
     "iopub.status.busy": "2021-10-20T09:40:04.899775Z",
     "iopub.status.idle": "2021-10-20T09:40:04.912028Z",
     "shell.execute_reply": "2021-10-20T09:40:04.911421Z",
     "shell.execute_reply.started": "2021-10-20T09:18:00.798790Z"
    },
    "papermill": {
     "duration": 0.046619,
     "end_time": "2021-10-20T09:40:04.912186",
     "exception": false,
     "start_time": "2021-10-20T09:40:04.865567",
     "status": "completed"
    },
    "tags": []
   },
   "outputs": [
    {
     "ename": "ValueError",
     "evalue": "could not convert string to float: 'TVS Star City Plus Dual Tone 110cc'",
     "output_type": "error",
     "traceback": [
      "\u001b[1;31m---------------------------------------------------------------------------\u001b[0m",
      "\u001b[1;31mValueError\u001b[0m                                Traceback (most recent call last)",
      "Cell \u001b[1;32mIn[4], line 2\u001b[0m\n\u001b[0;32m      1\u001b[0m \u001b[38;5;66;03m## Correlation : High correlation between Power/Price\u001b[39;00m\n\u001b[1;32m----> 2\u001b[0m \u001b[43mdata\u001b[49m\u001b[38;5;241;43m.\u001b[39;49m\u001b[43mcorr\u001b[49m\u001b[43m(\u001b[49m\u001b[43m)\u001b[49m\n",
      "File \u001b[1;32m~\\AppData\\Roaming\\Python\\Python311\\site-packages\\pandas\\core\\frame.py:11049\u001b[0m, in \u001b[0;36mDataFrame.corr\u001b[1;34m(self, method, min_periods, numeric_only)\u001b[0m\n\u001b[0;32m  11047\u001b[0m cols \u001b[38;5;241m=\u001b[39m data\u001b[38;5;241m.\u001b[39mcolumns\n\u001b[0;32m  11048\u001b[0m idx \u001b[38;5;241m=\u001b[39m cols\u001b[38;5;241m.\u001b[39mcopy()\n\u001b[1;32m> 11049\u001b[0m mat \u001b[38;5;241m=\u001b[39m \u001b[43mdata\u001b[49m\u001b[38;5;241;43m.\u001b[39;49m\u001b[43mto_numpy\u001b[49m\u001b[43m(\u001b[49m\u001b[43mdtype\u001b[49m\u001b[38;5;241;43m=\u001b[39;49m\u001b[38;5;28;43mfloat\u001b[39;49m\u001b[43m,\u001b[49m\u001b[43m \u001b[49m\u001b[43mna_value\u001b[49m\u001b[38;5;241;43m=\u001b[39;49m\u001b[43mnp\u001b[49m\u001b[38;5;241;43m.\u001b[39;49m\u001b[43mnan\u001b[49m\u001b[43m,\u001b[49m\u001b[43m \u001b[49m\u001b[43mcopy\u001b[49m\u001b[38;5;241;43m=\u001b[39;49m\u001b[38;5;28;43;01mFalse\u001b[39;49;00m\u001b[43m)\u001b[49m\n\u001b[0;32m  11051\u001b[0m \u001b[38;5;28;01mif\u001b[39;00m method \u001b[38;5;241m==\u001b[39m \u001b[38;5;124m\"\u001b[39m\u001b[38;5;124mpearson\u001b[39m\u001b[38;5;124m\"\u001b[39m:\n\u001b[0;32m  11052\u001b[0m     correl \u001b[38;5;241m=\u001b[39m libalgos\u001b[38;5;241m.\u001b[39mnancorr(mat, minp\u001b[38;5;241m=\u001b[39mmin_periods)\n",
      "File \u001b[1;32m~\\AppData\\Roaming\\Python\\Python311\\site-packages\\pandas\\core\\frame.py:1993\u001b[0m, in \u001b[0;36mDataFrame.to_numpy\u001b[1;34m(self, dtype, copy, na_value)\u001b[0m\n\u001b[0;32m   1991\u001b[0m \u001b[38;5;28;01mif\u001b[39;00m dtype \u001b[38;5;129;01mis\u001b[39;00m \u001b[38;5;129;01mnot\u001b[39;00m \u001b[38;5;28;01mNone\u001b[39;00m:\n\u001b[0;32m   1992\u001b[0m     dtype \u001b[38;5;241m=\u001b[39m np\u001b[38;5;241m.\u001b[39mdtype(dtype)\n\u001b[1;32m-> 1993\u001b[0m result \u001b[38;5;241m=\u001b[39m \u001b[38;5;28;43mself\u001b[39;49m\u001b[38;5;241;43m.\u001b[39;49m\u001b[43m_mgr\u001b[49m\u001b[38;5;241;43m.\u001b[39;49m\u001b[43mas_array\u001b[49m\u001b[43m(\u001b[49m\u001b[43mdtype\u001b[49m\u001b[38;5;241;43m=\u001b[39;49m\u001b[43mdtype\u001b[49m\u001b[43m,\u001b[49m\u001b[43m \u001b[49m\u001b[43mcopy\u001b[49m\u001b[38;5;241;43m=\u001b[39;49m\u001b[43mcopy\u001b[49m\u001b[43m,\u001b[49m\u001b[43m \u001b[49m\u001b[43mna_value\u001b[49m\u001b[38;5;241;43m=\u001b[39;49m\u001b[43mna_value\u001b[49m\u001b[43m)\u001b[49m\n\u001b[0;32m   1994\u001b[0m \u001b[38;5;28;01mif\u001b[39;00m result\u001b[38;5;241m.\u001b[39mdtype \u001b[38;5;129;01mis\u001b[39;00m \u001b[38;5;129;01mnot\u001b[39;00m dtype:\n\u001b[0;32m   1995\u001b[0m     result \u001b[38;5;241m=\u001b[39m np\u001b[38;5;241m.\u001b[39masarray(result, dtype\u001b[38;5;241m=\u001b[39mdtype)\n",
      "File \u001b[1;32m~\\AppData\\Roaming\\Python\\Python311\\site-packages\\pandas\\core\\internals\\managers.py:1694\u001b[0m, in \u001b[0;36mBlockManager.as_array\u001b[1;34m(self, dtype, copy, na_value)\u001b[0m\n\u001b[0;32m   1692\u001b[0m         arr\u001b[38;5;241m.\u001b[39mflags\u001b[38;5;241m.\u001b[39mwriteable \u001b[38;5;241m=\u001b[39m \u001b[38;5;28;01mFalse\u001b[39;00m\n\u001b[0;32m   1693\u001b[0m \u001b[38;5;28;01melse\u001b[39;00m:\n\u001b[1;32m-> 1694\u001b[0m     arr \u001b[38;5;241m=\u001b[39m \u001b[38;5;28;43mself\u001b[39;49m\u001b[38;5;241;43m.\u001b[39;49m\u001b[43m_interleave\u001b[49m\u001b[43m(\u001b[49m\u001b[43mdtype\u001b[49m\u001b[38;5;241;43m=\u001b[39;49m\u001b[43mdtype\u001b[49m\u001b[43m,\u001b[49m\u001b[43m \u001b[49m\u001b[43mna_value\u001b[49m\u001b[38;5;241;43m=\u001b[39;49m\u001b[43mna_value\u001b[49m\u001b[43m)\u001b[49m\n\u001b[0;32m   1695\u001b[0m     \u001b[38;5;66;03m# The underlying data was copied within _interleave, so no need\u001b[39;00m\n\u001b[0;32m   1696\u001b[0m     \u001b[38;5;66;03m# to further copy if copy=True or setting na_value\u001b[39;00m\n\u001b[0;32m   1698\u001b[0m \u001b[38;5;28;01mif\u001b[39;00m na_value \u001b[38;5;129;01mis\u001b[39;00m lib\u001b[38;5;241m.\u001b[39mno_default:\n",
      "File \u001b[1;32m~\\AppData\\Roaming\\Python\\Python311\\site-packages\\pandas\\core\\internals\\managers.py:1753\u001b[0m, in \u001b[0;36mBlockManager._interleave\u001b[1;34m(self, dtype, na_value)\u001b[0m\n\u001b[0;32m   1751\u001b[0m     \u001b[38;5;28;01melse\u001b[39;00m:\n\u001b[0;32m   1752\u001b[0m         arr \u001b[38;5;241m=\u001b[39m blk\u001b[38;5;241m.\u001b[39mget_values(dtype)\n\u001b[1;32m-> 1753\u001b[0m     \u001b[43mresult\u001b[49m\u001b[43m[\u001b[49m\u001b[43mrl\u001b[49m\u001b[38;5;241;43m.\u001b[39;49m\u001b[43mindexer\u001b[49m\u001b[43m]\u001b[49m \u001b[38;5;241m=\u001b[39m arr\n\u001b[0;32m   1754\u001b[0m     itemmask[rl\u001b[38;5;241m.\u001b[39mindexer] \u001b[38;5;241m=\u001b[39m \u001b[38;5;241m1\u001b[39m\n\u001b[0;32m   1756\u001b[0m \u001b[38;5;28;01mif\u001b[39;00m \u001b[38;5;129;01mnot\u001b[39;00m itemmask\u001b[38;5;241m.\u001b[39mall():\n",
      "\u001b[1;31mValueError\u001b[0m: could not convert string to float: 'TVS Star City Plus Dual Tone 110cc'"
     ]
    }
   ],
   "source": [
    "## Correlation : High correlation between Power/Price\n",
    "data.corr()"
   ]
  },
  {
   "cell_type": "code",
   "execution_count": 12,
   "id": "566e4107",
   "metadata": {
    "execution": {
     "iopub.execute_input": "2021-10-20T09:40:05.097253Z",
     "iopub.status.busy": "2021-10-20T09:40:04.975426Z",
     "iopub.status.idle": "2021-10-20T09:40:05.333697Z",
     "shell.execute_reply": "2021-10-20T09:40:05.332823Z",
     "shell.execute_reply.started": "2021-10-20T09:18:00.815763Z"
    },
    "papermill": {
     "duration": 0.39441,
     "end_time": "2021-10-20T09:40:05.333867",
     "exception": false,
     "start_time": "2021-10-20T09:40:04.939457",
     "status": "completed"
    },
    "tags": []
   },
   "outputs": [
    {
     "data": {
      "text/plain": [
       "<Axes: xlabel='price'>"
      ]
     },
     "execution_count": 12,
     "metadata": {},
     "output_type": "execute_result"
    },
    {
     "data": {
      "image/png": "[encoded data removed]",
      "text/plain": [
       "<Figure size 1200x800 with 1 Axes>"
      ]
     },
     "metadata": {},
     "output_type": "display_data"
    }
   ],
   "source": [
    "plt.figure(figsize = (12,8))\n",
    "sns.boxplot(x = 'price' , data = data)"
   ]
  },
  {
   "cell_type": "code",
   "execution_count": 13,
   "id": "56dbd675",
   "metadata": {
    "execution": {
     "iopub.execute_input": "2021-10-20T09:40:05.398295Z",
     "iopub.status.busy": "2021-10-20T09:40:05.397224Z",
     "iopub.status.idle": "2021-10-20T09:40:05.400532Z",
     "shell.execute_reply": "2021-10-20T09:40:05.399767Z",
     "shell.execute_reply.started": "2021-10-20T09:18:01.040205Z"
    },
    "papermill": {
     "duration": 0.039205,
     "end_time": "2021-10-20T09:40:05.400709",
     "exception": false,
     "start_time": "2021-10-20T09:40:05.361504",
     "status": "completed"
    },
    "tags": []
   },
   "outputs": [],
   "source": [
    "def get_iqr_values(df , column_name):\n",
    "    median = df[column_name].mean()\n",
    "    q1 = df[column_name].quantile(0.25)\n",
    "    q3 = df[column_name].quantile(0.75)\n",
    "    iqr = q3 - q1\n",
    "    maximum_quantile = q3 + (1.5*iqr)\n",
    "    minimum_quantile = q1 - (1.5*iqr)\n",
    "    return median , q1 , q3 , maximum_quantile , minimum_quantile\n",
    "\n",
    "def remove_outliers(df,column_name):\n",
    "    _,_,_,maximum,minimum = get_iqr_values(df,column_name)\n",
    "    df_out = df[(df[column_name] > minimum) & (df[column_name] < maximum)]\n",
    "    return df_out"
   ]
  },
  {
   "cell_type": "code",
   "execution_count": 14,
   "id": "3c9c7294",
   "metadata": {
    "execution": {
     "iopub.execute_input": "2021-10-20T09:40:05.459352Z",
     "iopub.status.busy": "2021-10-20T09:40:05.458647Z",
     "iopub.status.idle": "2021-10-20T09:40:05.472639Z",
     "shell.execute_reply": "2021-10-20T09:40:05.473171Z",
     "shell.execute_reply.started": "2021-10-20T09:18:01.050865Z"
    },
    "papermill": {
     "duration": 0.04503,
     "end_time": "2021-10-20T09:40:05.473371",
     "exception": false,
     "start_time": "2021-10-20T09:40:05.428341",
     "status": "completed"
    },
    "tags": []
   },
   "outputs": [
    {
     "name": "stdout",
     "output_type": "stream",
     "text": [
      "Number of outliers :  1941\n"
     ]
    }
   ],
   "source": [
    "df_out = remove_outliers(data,'price')\n",
    "number_outliers = data.shape[0] - df_out.shape[0]\n",
    "print('Number of outliers : ',number_outliers)"
   ]
  },
  {
   "cell_type": "code",
   "execution_count": 15,
   "id": "24341ca0",
   "metadata": {
    "execution": {
     "iopub.execute_input": "2021-10-20T09:40:05.532624Z",
     "iopub.status.busy": "2021-10-20T09:40:05.531924Z",
     "iopub.status.idle": "2021-10-20T09:40:05.548053Z",
     "shell.execute_reply": "2021-10-20T09:40:05.547364Z",
     "shell.execute_reply.started": "2021-10-20T09:18:01.072439Z"
    },
    "papermill": {
     "duration": 0.047065,
     "end_time": "2021-10-20T09:40:05.548199",
     "exception": false,
     "start_time": "2021-10-20T09:40:05.501134",
     "status": "completed"
    },
    "tags": []
   },
   "outputs": [
    {
     "data": {
      "text/html": [
       "<div>\n",
       "<style scoped>\n",
       "    .dataframe tbody tr th:only-of-type {\n",
       "        vertical-align: middle;\n",
       "    }\n",
       "\n",
       "    .dataframe tbody tr th {\n",
       "        vertical-align: top;\n",
       "    }\n",
       "\n",
       "    .dataframe thead th {\n",
       "        text-align: right;\n",
       "    }\n",
       "</style>\n",
       "<table border=\"1\" class=\"dataframe\">\n",
       "  <thead>\n",
       "    <tr style=\"text-align: right;\">\n",
       "      <th></th>\n",
       "      <th>bike_name</th>\n",
       "      <th>price</th>\n",
       "      <th>city</th>\n",
       "      <th>kms_driven</th>\n",
       "      <th>owner</th>\n",
       "      <th>age</th>\n",
       "      <th>power</th>\n",
       "      <th>brand</th>\n",
       "    </tr>\n",
       "  </thead>\n",
       "  <tbody>\n",
       "    <tr>\n",
       "      <th>0</th>\n",
       "      <td>TVS Star City Plus Dual Tone 110cc</td>\n",
       "      <td>35000.0</td>\n",
       "      <td>Ahmedabad</td>\n",
       "      <td>17654.0</td>\n",
       "      <td>First Owner</td>\n",
       "      <td>3.0</td>\n",
       "      <td>110.0</td>\n",
       "      <td>TVS</td>\n",
       "    </tr>\n",
       "    <tr>\n",
       "      <th>1</th>\n",
       "      <td>Royal Enfield Classic 350cc</td>\n",
       "      <td>119900.0</td>\n",
       "      <td>Delhi</td>\n",
       "      <td>11000.0</td>\n",
       "      <td>First Owner</td>\n",
       "      <td>4.0</td>\n",
       "      <td>350.0</td>\n",
       "      <td>Royal Enfield</td>\n",
       "    </tr>\n",
       "    <tr>\n",
       "      <th>3</th>\n",
       "      <td>TVS Apache RTR 180cc</td>\n",
       "      <td>65000.0</td>\n",
       "      <td>Bangalore</td>\n",
       "      <td>16329.0</td>\n",
       "      <td>First Owner</td>\n",
       "      <td>4.0</td>\n",
       "      <td>180.0</td>\n",
       "      <td>TVS</td>\n",
       "    </tr>\n",
       "    <tr>\n",
       "      <th>4</th>\n",
       "      <td>Yamaha FZ S V 2.0 150cc-Ltd. Edition</td>\n",
       "      <td>80000.0</td>\n",
       "      <td>Bangalore</td>\n",
       "      <td>10000.0</td>\n",
       "      <td>First Owner</td>\n",
       "      <td>3.0</td>\n",
       "      <td>150.0</td>\n",
       "      <td>Yamaha</td>\n",
       "    </tr>\n",
       "    <tr>\n",
       "      <th>5</th>\n",
       "      <td>Yamaha FZs 150cc</td>\n",
       "      <td>53499.0</td>\n",
       "      <td>Delhi</td>\n",
       "      <td>25000.0</td>\n",
       "      <td>First Owner</td>\n",
       "      <td>6.0</td>\n",
       "      <td>150.0</td>\n",
       "      <td>Yamaha</td>\n",
       "    </tr>\n",
       "  </tbody>\n",
       "</table>\n",
       "</div>"
      ],
      "text/plain": [
       "                              bike_name     price       city  kms_driven  \\\n",
       "0    TVS Star City Plus Dual Tone 110cc   35000.0  Ahmedabad     17654.0   \n",
       "1           Royal Enfield Classic 350cc  119900.0      Delhi     11000.0   \n",
       "3                  TVS Apache RTR 180cc   65000.0  Bangalore     16329.0   \n",
       "4  Yamaha FZ S V 2.0 150cc-Ltd. Edition   80000.0  Bangalore     10000.0   \n",
       "5                      Yamaha FZs 150cc   53499.0      Delhi     25000.0   \n",
       "\n",
       "         owner  age  power          brand  \n",
       "0  First Owner  3.0  110.0            TVS  \n",
       "1  First Owner  4.0  350.0  Royal Enfield  \n",
       "3  First Owner  4.0  180.0            TVS  \n",
       "4  First Owner  3.0  150.0         Yamaha  \n",
       "5  First Owner  6.0  150.0         Yamaha  "
      ]
     },
     "execution_count": 15,
     "metadata": {},
     "output_type": "execute_result"
    }
   ],
   "source": [
    "df_out.head()"
   ]
  },
  {
   "cell_type": "code",
   "execution_count": 5,
   "id": "76091a1e",
   "metadata": {
    "execution": {
     "iopub.execute_input": "2021-10-20T09:40:05.616136Z",
     "iopub.status.busy": "2021-10-20T09:40:05.615118Z",
     "iopub.status.idle": "2021-10-20T09:40:05.633719Z",
     "shell.execute_reply": "2021-10-20T09:40:05.635012Z",
     "shell.execute_reply.started": "2021-10-20T09:18:01.091180Z"
    },
    "papermill": {
     "duration": 0.057837,
     "end_time": "2021-10-20T09:40:05.635295",
     "exception": false,
     "start_time": "2021-10-20T09:40:05.577458",
     "status": "completed"
    },
    "tags": []
   },
   "outputs": [
    {
     "ename": "NameError",
     "evalue": "name 'df_out' is not defined",
     "output_type": "error",
     "traceback": [
      "\u001b[1;31m---------------------------------------------------------------------------\u001b[0m",
      "\u001b[1;31mNameError\u001b[0m                                 Traceback (most recent call last)",
      "Cell \u001b[1;32mIn[5], line 3\u001b[0m\n\u001b[0;32m      1\u001b[0m categorical_features \u001b[38;5;241m=\u001b[39m [\u001b[38;5;124m'\u001b[39m\u001b[38;5;124mbike_name\u001b[39m\u001b[38;5;124m'\u001b[39m , \u001b[38;5;124m'\u001b[39m\u001b[38;5;124mcity\u001b[39m\u001b[38;5;124m'\u001b[39m , \u001b[38;5;124m'\u001b[39m\u001b[38;5;124mowner\u001b[39m\u001b[38;5;124m'\u001b[39m , \u001b[38;5;124m'\u001b[39m\u001b[38;5;124mbrand\u001b[39m\u001b[38;5;124m'\u001b[39m]\n\u001b[0;32m      2\u001b[0m \u001b[38;5;28;01mfor\u001b[39;00m col \u001b[38;5;129;01min\u001b[39;00m categorical_features:\n\u001b[1;32m----> 3\u001b[0m     \u001b[38;5;28mprint\u001b[39m(col,\u001b[38;5;124m'\u001b[39m\u001b[38;5;124m-->\u001b[39m\u001b[38;5;124m'\u001b[39m,\u001b[43mdf_out\u001b[49m[col]\u001b[38;5;241m.\u001b[39mnunique())\n",
      "\u001b[1;31mNameError\u001b[0m: name 'df_out' is not defined"
     ]
    }
   ],
   "source": [
    "categorical_features = ['bike_name' , 'city' , 'owner' , 'brand']\n",
    "for col in categorical_features:\n",
    "    print(col,'-->',df_out[col].nunique())\n"
   ]
  },
  {
   "cell_type": "code",
   "execution_count": 6,
   "id": "252dd1f1",
   "metadata": {
    "execution": {
     "iopub.execute_input": "2021-10-20T09:40:05.700336Z",
     "iopub.status.busy": "2021-10-20T09:40:05.699541Z",
     "iopub.status.idle": "2021-10-20T09:40:05.759049Z",
     "shell.execute_reply": "2021-10-20T09:40:05.757694Z",
     "shell.execute_reply.started": "2021-10-20T09:18:01.111866Z"
    },
    "papermill": {
     "duration": 0.092034,
     "end_time": "2021-10-20T09:40:05.759244",
     "exception": false,
     "start_time": "2021-10-20T09:40:05.667210",
     "status": "completed"
    },
    "tags": []
   },
   "outputs": [
    {
     "ename": "NameError",
     "evalue": "name 'df_out' is not defined",
     "output_type": "error",
     "traceback": [
      "\u001b[1;31m---------------------------------------------------------------------------\u001b[0m",
      "\u001b[1;31mNameError\u001b[0m                                 Traceback (most recent call last)",
      "Cell \u001b[1;32mIn[6], line 1\u001b[0m\n\u001b[1;32m----> 1\u001b[0m val_count_bike \u001b[38;5;241m=\u001b[39m \u001b[43mdf_out\u001b[49m[\u001b[38;5;124m'\u001b[39m\u001b[38;5;124mbike_name\u001b[39m\u001b[38;5;124m'\u001b[39m]\u001b[38;5;241m.\u001b[39mvalue_counts()\n\u001b[0;32m      2\u001b[0m condition_reduction \u001b[38;5;241m=\u001b[39m val_count_bike[val_count_bike\u001b[38;5;241m>\u001b[39m\u001b[38;5;241m30\u001b[39m]\n\u001b[0;32m      3\u001b[0m df_out[\u001b[38;5;124m'\u001b[39m\u001b[38;5;124mbike_name\u001b[39m\u001b[38;5;124m'\u001b[39m] \u001b[38;5;241m=\u001b[39m df_out[\u001b[38;5;124m'\u001b[39m\u001b[38;5;124mbike_name\u001b[39m\u001b[38;5;124m'\u001b[39m]\u001b[38;5;241m.\u001b[39mapply(\u001b[38;5;28;01mlambda\u001b[39;00m x : x \u001b[38;5;28;01mif\u001b[39;00m x \u001b[38;5;129;01min\u001b[39;00m  condition_reduction \u001b[38;5;28;01melse\u001b[39;00m \u001b[38;5;124m'\u001b[39m\u001b[38;5;124mothers\u001b[39m\u001b[38;5;124m'\u001b[39m )\n",
      "\u001b[1;31mNameError\u001b[0m: name 'df_out' is not defined"
     ]
    }
   ],
   "source": [
    "val_count_bike = df_out['bike_name'].value_counts()\n",
    "condition_reduction = val_count_bike[val_count_bike>30]\n",
    "df_out['bike_name'] = df_out['bike_name'].apply(lambda x : x if x in  condition_reduction else 'others' )"
   ]
  },
  {
   "cell_type": "code",
   "execution_count": 18,
   "id": "cf5287e5",
   "metadata": {
    "execution": {
     "iopub.execute_input": "2021-10-20T09:40:05.821609Z",
     "iopub.status.busy": "2021-10-20T09:40:05.820817Z",
     "iopub.status.idle": "2021-10-20T09:40:05.877645Z",
     "shell.execute_reply": "2021-10-20T09:40:05.878349Z",
     "shell.execute_reply.started": "2021-10-20T09:18:01.169293Z"
    },
    "papermill": {
     "duration": 0.090506,
     "end_time": "2021-10-20T09:40:05.878558",
     "exception": false,
     "start_time": "2021-10-20T09:40:05.788052",
     "status": "completed"
    },
    "tags": []
   },
   "outputs": [],
   "source": [
    "val_count_city = df_out['city'].value_counts()\n",
    "cond_reduction = val_count_city[val_count_city>100]\n",
    "df_out['city'] = df_out['city'].apply(lambda x : x if x in  cond_reduction else 'others' )"
   ]
  },
  {
   "cell_type": "code",
   "execution_count": 19,
   "id": "a01eac0c",
   "metadata": {
    "execution": {
     "iopub.execute_input": "2021-10-20T09:40:05.946283Z",
     "iopub.status.busy": "2021-10-20T09:40:05.945447Z",
     "iopub.status.idle": "2021-10-20T09:40:06.001356Z",
     "shell.execute_reply": "2021-10-20T09:40:06.000551Z",
     "shell.execute_reply.started": "2021-10-20T09:18:01.229110Z"
    },
    "papermill": {
     "duration": 0.09137,
     "end_time": "2021-10-20T09:40:06.001591",
     "exception": false,
     "start_time": "2021-10-20T09:40:05.910221",
     "status": "completed"
    },
    "tags": []
   },
   "outputs": [],
   "source": [
    "val_count_brand = df_out['brand'].value_counts()\n",
    "cond_reduction_brand = val_count_brand[val_count_brand>500]\n",
    "df_out['brand'] = df_out['brand'].apply(lambda x : x if x in  cond_reduction_brand else 'others' )"
   ]
  },
  {
   "cell_type": "code",
   "execution_count": 20,
   "id": "56f20d51",
   "metadata": {
    "execution": {
     "iopub.execute_input": "2021-10-20T09:40:06.067120Z",
     "iopub.status.busy": "2021-10-20T09:40:06.066323Z",
     "iopub.status.idle": "2021-10-20T09:40:06.083737Z",
     "shell.execute_reply": "2021-10-20T09:40:06.084341Z",
     "shell.execute_reply.started": "2021-10-20T09:18:01.285021Z"
    },
    "papermill": {
     "duration": 0.052674,
     "end_time": "2021-10-20T09:40:06.084569",
     "exception": false,
     "start_time": "2021-10-20T09:40:06.031895",
     "status": "completed"
    },
    "tags": []
   },
   "outputs": [],
   "source": [
    "def owner_change(owner_type):\n",
    "    if owner_type == 'First Owner':\n",
    "        return 'Yes'\n",
    "    else:\n",
    "        return 'No'\n",
    "df_out['owner'] = df_out['owner'].apply(lambda x : owner_change(x) )"
   ]
  },
  {
   "cell_type": "code",
   "execution_count": 21,
   "id": "ca341bd5",
   "metadata": {
    "execution": {
     "iopub.execute_input": "2021-10-20T09:40:06.146590Z",
     "iopub.status.busy": "2021-10-20T09:40:06.145905Z",
     "iopub.status.idle": "2021-10-20T09:40:06.160727Z",
     "shell.execute_reply": "2021-10-20T09:40:06.161217Z",
     "shell.execute_reply.started": "2021-10-20T09:18:01.303290Z"
    },
    "papermill": {
     "duration": 0.047651,
     "end_time": "2021-10-20T09:40:06.161427",
     "exception": false,
     "start_time": "2021-10-20T09:40:06.113776",
     "status": "completed"
    },
    "tags": []
   },
   "outputs": [
    {
     "data": {
      "text/html": [
       "<div>\n",
       "<style scoped>\n",
       "    .dataframe tbody tr th:only-of-type {\n",
       "        vertical-align: middle;\n",
       "    }\n",
       "\n",
       "    .dataframe tbody tr th {\n",
       "        vertical-align: top;\n",
       "    }\n",
       "\n",
       "    .dataframe thead th {\n",
       "        text-align: right;\n",
       "    }\n",
       "</style>\n",
       "<table border=\"1\" class=\"dataframe\">\n",
       "  <thead>\n",
       "    <tr style=\"text-align: right;\">\n",
       "      <th></th>\n",
       "      <th>bike_name</th>\n",
       "      <th>price</th>\n",
       "      <th>city</th>\n",
       "      <th>kms_driven</th>\n",
       "      <th>owner</th>\n",
       "      <th>age</th>\n",
       "      <th>power</th>\n",
       "      <th>brand</th>\n",
       "    </tr>\n",
       "  </thead>\n",
       "  <tbody>\n",
       "    <tr>\n",
       "      <th>0</th>\n",
       "      <td>others</td>\n",
       "      <td>35000.0</td>\n",
       "      <td>Ahmedabad</td>\n",
       "      <td>17654.0</td>\n",
       "      <td>Yes</td>\n",
       "      <td>3.0</td>\n",
       "      <td>110.0</td>\n",
       "      <td>TVS</td>\n",
       "    </tr>\n",
       "    <tr>\n",
       "      <th>1</th>\n",
       "      <td>Royal Enfield Classic 350cc</td>\n",
       "      <td>119900.0</td>\n",
       "      <td>Delhi</td>\n",
       "      <td>11000.0</td>\n",
       "      <td>Yes</td>\n",
       "      <td>4.0</td>\n",
       "      <td>350.0</td>\n",
       "      <td>Royal Enfield</td>\n",
       "    </tr>\n",
       "    <tr>\n",
       "      <th>3</th>\n",
       "      <td>TVS Apache RTR 180cc</td>\n",
       "      <td>65000.0</td>\n",
       "      <td>Bangalore</td>\n",
       "      <td>16329.0</td>\n",
       "      <td>Yes</td>\n",
       "      <td>4.0</td>\n",
       "      <td>180.0</td>\n",
       "      <td>TVS</td>\n",
       "    </tr>\n",
       "    <tr>\n",
       "      <th>4</th>\n",
       "      <td>others</td>\n",
       "      <td>80000.0</td>\n",
       "      <td>Bangalore</td>\n",
       "      <td>10000.0</td>\n",
       "      <td>Yes</td>\n",
       "      <td>3.0</td>\n",
       "      <td>150.0</td>\n",
       "      <td>Yamaha</td>\n",
       "    </tr>\n",
       "    <tr>\n",
       "      <th>5</th>\n",
       "      <td>Yamaha FZs 150cc</td>\n",
       "      <td>53499.0</td>\n",
       "      <td>Delhi</td>\n",
       "      <td>25000.0</td>\n",
       "      <td>Yes</td>\n",
       "      <td>6.0</td>\n",
       "      <td>150.0</td>\n",
       "      <td>Yamaha</td>\n",
       "    </tr>\n",
       "  </tbody>\n",
       "</table>\n",
       "</div>"
      ],
      "text/plain": [
       "                     bike_name     price       city  kms_driven owner  age  \\\n",
       "0                       others   35000.0  Ahmedabad     17654.0   Yes  3.0   \n",
       "1  Royal Enfield Classic 350cc  119900.0      Delhi     11000.0   Yes  4.0   \n",
       "3         TVS Apache RTR 180cc   65000.0  Bangalore     16329.0   Yes  4.0   \n",
       "4                       others   80000.0  Bangalore     10000.0   Yes  3.0   \n",
       "5             Yamaha FZs 150cc   53499.0      Delhi     25000.0   Yes  6.0   \n",
       "\n",
       "   power          brand  \n",
       "0  110.0            TVS  \n",
       "1  350.0  Royal Enfield  \n",
       "3  180.0            TVS  \n",
       "4  150.0         Yamaha  \n",
       "5  150.0         Yamaha  "
      ]
     },
     "execution_count": 21,
     "metadata": {},
     "output_type": "execute_result"
    }
   ],
   "source": [
    "df_out.head()"
   ]
  },
  {
   "cell_type": "code",
   "execution_count": 22,
   "id": "07b1abd9",
   "metadata": {
    "execution": {
     "iopub.execute_input": "2021-10-20T09:40:06.233746Z",
     "iopub.status.busy": "2021-10-20T09:40:06.231742Z",
     "iopub.status.idle": "2021-10-20T09:40:06.280556Z",
     "shell.execute_reply": "2021-10-20T09:40:06.280002Z",
     "shell.execute_reply.started": "2021-10-20T09:18:01.327998Z"
    },
    "papermill": {
     "duration": 0.088271,
     "end_time": "2021-10-20T09:40:06.280706",
     "exception": false,
     "start_time": "2021-10-20T09:40:06.192435",
     "status": "completed"
    },
    "tags": []
   },
   "outputs": [
    {
     "data": {
      "text/html": [
       "<div>\n",
       "<style scoped>\n",
       "    .dataframe tbody tr th:only-of-type {\n",
       "        vertical-align: middle;\n",
       "    }\n",
       "\n",
       "    .dataframe tbody tr th {\n",
       "        vertical-align: top;\n",
       "    }\n",
       "\n",
       "    .dataframe thead th {\n",
       "        text-align: right;\n",
       "    }\n",
       "</style>\n",
       "<table border=\"1\" class=\"dataframe\">\n",
       "  <thead>\n",
       "    <tr style=\"text-align: right;\">\n",
       "      <th></th>\n",
       "      <th>price</th>\n",
       "      <th>kms_driven</th>\n",
       "      <th>age</th>\n",
       "      <th>power</th>\n",
       "      <th>bike_name_Bajaj Avenger 220cc</th>\n",
       "      <th>bike_name_Bajaj Avenger Cruise 220</th>\n",
       "      <th>bike_name_Bajaj Avenger Street 150</th>\n",
       "      <th>bike_name_Bajaj Avenger Street 220</th>\n",
       "      <th>bike_name_Bajaj CT 100 100cc</th>\n",
       "      <th>bike_name_Bajaj Discover 100M</th>\n",
       "      <th>...</th>\n",
       "      <th>owner_No</th>\n",
       "      <th>owner_Yes</th>\n",
       "      <th>brand_Bajaj</th>\n",
       "      <th>brand_Hero</th>\n",
       "      <th>brand_Honda</th>\n",
       "      <th>brand_Royal Enfield</th>\n",
       "      <th>brand_Suzuki</th>\n",
       "      <th>brand_TVS</th>\n",
       "      <th>brand_Yamaha</th>\n",
       "      <th>brand_others</th>\n",
       "    </tr>\n",
       "  </thead>\n",
       "  <tbody>\n",
       "    <tr>\n",
       "      <th>0</th>\n",
       "      <td>35000.0</td>\n",
       "      <td>17654.0</td>\n",
       "      <td>3.0</td>\n",
       "      <td>110.0</td>\n",
       "      <td>False</td>\n",
       "      <td>False</td>\n",
       "      <td>False</td>\n",
       "      <td>False</td>\n",
       "      <td>False</td>\n",
       "      <td>False</td>\n",
       "      <td>...</td>\n",
       "      <td>False</td>\n",
       "      <td>True</td>\n",
       "      <td>False</td>\n",
       "      <td>False</td>\n",
       "      <td>False</td>\n",
       "      <td>False</td>\n",
       "      <td>False</td>\n",
       "      <td>True</td>\n",
       "      <td>False</td>\n",
       "      <td>False</td>\n",
       "    </tr>\n",
       "    <tr>\n",
       "      <th>1</th>\n",
       "      <td>119900.0</td>\n",
       "      <td>11000.0</td>\n",
       "      <td>4.0</td>\n",
       "      <td>350.0</td>\n",
       "      <td>False</td>\n",
       "      <td>False</td>\n",
       "      <td>False</td>\n",
       "      <td>False</td>\n",
       "      <td>False</td>\n",
       "      <td>False</td>\n",
       "      <td>...</td>\n",
       "      <td>False</td>\n",
       "      <td>True</td>\n",
       "      <td>False</td>\n",
       "      <td>False</td>\n",
       "      <td>False</td>\n",
       "      <td>True</td>\n",
       "      <td>False</td>\n",
       "      <td>False</td>\n",
       "      <td>False</td>\n",
       "      <td>False</td>\n",
       "    </tr>\n",
       "    <tr>\n",
       "      <th>3</th>\n",
       "      <td>65000.0</td>\n",
       "      <td>16329.0</td>\n",
       "      <td>4.0</td>\n",
       "      <td>180.0</td>\n",
       "      <td>False</td>\n",
       "      <td>False</td>\n",
       "      <td>False</td>\n",
       "      <td>False</td>\n",
       "      <td>False</td>\n",
       "      <td>False</td>\n",
       "      <td>...</td>\n",
       "      <td>False</td>\n",
       "      <td>True</td>\n",
       "      <td>False</td>\n",
       "      <td>False</td>\n",
       "      <td>False</td>\n",
       "      <td>False</td>\n",
       "      <td>False</td>\n",
       "      <td>True</td>\n",
       "      <td>False</td>\n",
       "      <td>False</td>\n",
       "    </tr>\n",
       "    <tr>\n",
       "      <th>4</th>\n",
       "      <td>80000.0</td>\n",
       "      <td>10000.0</td>\n",
       "      <td>3.0</td>\n",
       "      <td>150.0</td>\n",
       "      <td>False</td>\n",
       "      <td>False</td>\n",
       "      <td>False</td>\n",
       "      <td>False</td>\n",
       "      <td>False</td>\n",
       "      <td>False</td>\n",
       "      <td>...</td>\n",
       "      <td>False</td>\n",
       "      <td>True</td>\n",
       "      <td>False</td>\n",
       "      <td>False</td>\n",
       "      <td>False</td>\n",
       "      <td>False</td>\n",
       "      <td>False</td>\n",
       "      <td>False</td>\n",
       "      <td>True</td>\n",
       "      <td>False</td>\n",
       "    </tr>\n",
       "    <tr>\n",
       "      <th>5</th>\n",
       "      <td>53499.0</td>\n",
       "      <td>25000.0</td>\n",
       "      <td>6.0</td>\n",
       "      <td>150.0</td>\n",
       "      <td>False</td>\n",
       "      <td>False</td>\n",
       "      <td>False</td>\n",
       "      <td>False</td>\n",
       "      <td>False</td>\n",
       "      <td>False</td>\n",
       "      <td>...</td>\n",
       "      <td>False</td>\n",
       "      <td>True</td>\n",
       "      <td>False</td>\n",
       "      <td>False</td>\n",
       "      <td>False</td>\n",
       "      <td>False</td>\n",
       "      <td>False</td>\n",
       "      <td>False</td>\n",
       "      <td>True</td>\n",
       "      <td>False</td>\n",
       "    </tr>\n",
       "  </tbody>\n",
       "</table>\n",
       "<p>5 rows × 126 columns</p>\n",
       "</div>"
      ],
      "text/plain": [
       "      price  kms_driven  age  power  bike_name_Bajaj Avenger 220cc  \\\n",
       "0   35000.0     17654.0  3.0  110.0                          False   \n",
       "1  119900.0     11000.0  4.0  350.0                          False   \n",
       "3   65000.0     16329.0  4.0  180.0                          False   \n",
       "4   80000.0     10000.0  3.0  150.0                          False   \n",
       "5   53499.0     25000.0  6.0  150.0                          False   \n",
       "\n",
       "   bike_name_Bajaj Avenger Cruise 220  bike_name_Bajaj Avenger Street 150  \\\n",
       "0                               False                               False   \n",
       "1                               False                               False   \n",
       "3                               False                               False   \n",
       "4                               False                               False   \n",
       "5                               False                               False   \n",
       "\n",
       "   bike_name_Bajaj Avenger Street 220  bike_name_Bajaj CT 100 100cc  \\\n",
       "0                               False                         False   \n",
       "1                               False                         False   \n",
       "3                               False                         False   \n",
       "4                               False                         False   \n",
       "5                               False                         False   \n",
       "\n",
       "   bike_name_Bajaj Discover 100M  ...  owner_No  owner_Yes  brand_Bajaj  \\\n",
       "0                          False  ...     False       True        False   \n",
       "1                          False  ...     False       True        False   \n",
       "3                          False  ...     False       True        False   \n",
       "4                          False  ...     False       True        False   \n",
       "5                          False  ...     False       True        False   \n",
       "\n",
       "   brand_Hero  brand_Honda  brand_Royal Enfield  brand_Suzuki  brand_TVS  \\\n",
       "0       False        False                False         False       True   \n",
       "1       False        False                 True         False      False   \n",
       "3       False        False                False         False       True   \n",
       "4       False        False                False         False      False   \n",
       "5       False        False                False         False      False   \n",
       "\n",
       "   brand_Yamaha  brand_others  \n",
       "0         False         False  \n",
       "1         False         False  \n",
       "3         False         False  \n",
       "4          True         False  \n",
       "5          True         False  \n",
       "\n",
       "[5 rows x 126 columns]"
      ]
     },
     "execution_count": 22,
     "metadata": {},
     "output_type": "execute_result"
    }
   ],
   "source": [
    "df_out = pd.get_dummies(df_out , columns =['bike_name' , 'city' , 'owner' , 'brand'])\n",
    "df_out.head()"
   ]
  },
  {
   "cell_type": "code",
   "execution_count": null,
   "id": "87cfb338",
   "metadata": {
    "execution": {
     "iopub.execute_input": "2021-10-20T09:40:06.346102Z",
     "iopub.status.busy": "2021-10-20T09:40:06.344994Z",
     "iopub.status.idle": "2021-10-20T09:40:06.368126Z",
     "shell.execute_reply": "2021-10-20T09:40:06.368726Z",
     "shell.execute_reply.started": "2021-10-20T09:18:01.384344Z"
    },
    "papermill": {
     "duration": 0.058254,
     "end_time": "2021-10-20T09:40:06.368924",
     "exception": false,
     "start_time": "2021-10-20T09:40:06.310670",
     "status": "completed"
    },
    "tags": []
   },
   "outputs": [],
   "source": [
    "X = df_out.drop(['price'] , axis = 'columns')\n",
    "y = df_out['price']"
   ]
  },
  {
   "cell_type": "code",
   "execution_count": 24,
   "id": "2ba73d5d",
   "metadata": {
    "execution": {
     "iopub.execute_input": "2021-10-20T09:40:06.434993Z",
     "iopub.status.busy": "2021-10-20T09:40:06.433938Z",
     "iopub.status.idle": "2021-10-20T09:40:06.452478Z",
     "shell.execute_reply": "2021-10-20T09:40:06.453041Z",
     "shell.execute_reply.started": "2021-10-20T09:18:01.398195Z"
    },
    "papermill": {
     "duration": 0.053673,
     "end_time": "2021-10-20T09:40:06.453228",
     "exception": false,
     "start_time": "2021-10-20T09:40:06.399555",
     "status": "completed"
    },
    "tags": []
   },
   "outputs": [],
   "source": [
    "X_train , X_test , y_train , y_test = train_test_split(X,y,test_size = 0.3 , random_state = 42)"
   ]
  },
  {
   "cell_type": "code",
   "execution_count": 11,
   "id": "f8427c9c",
   "metadata": {
    "execution": {
     "iopub.execute_input": "2021-10-20T09:40:06.518231Z",
     "iopub.status.busy": "2021-10-20T09:40:06.517158Z",
     "iopub.status.idle": "2021-10-20T09:40:06.629165Z",
     "shell.execute_reply": "2021-10-20T09:40:06.628559Z",
     "shell.execute_reply.started": "2021-10-20T09:18:01.416441Z"
    },
    "papermill": {
     "duration": 0.145203,
     "end_time": "2021-10-20T09:40:06.629342",
     "exception": false,
     "start_time": "2021-10-20T09:40:06.484139",
     "status": "completed"
    },
    "tags": []
   },
   "outputs": [
    {
     "ename": "ValueError",
     "evalue": "could not convert string to float: 'Bajaj Pulsar 150cc'",
     "output_type": "error",
     "traceback": [
      "\u001b[1;31m---------------------------------------------------------------------------\u001b[0m",
      "\u001b[1;31mValueError\u001b[0m                                Traceback (most recent call last)",
      "\u001b[1;32m~\\AppData\\Local\\Temp\\ipykernel_18896\\180694435.py\u001b[0m in \u001b[0;36m?\u001b[1;34m()\u001b[0m\n\u001b[0;32m      1\u001b[0m \u001b[0msc\u001b[0m \u001b[1;33m=\u001b[0m \u001b[0mStandardScaler\u001b[0m\u001b[1;33m(\u001b[0m\u001b[1;33m)\u001b[0m\u001b[1;33m\u001b[0m\u001b[1;33m\u001b[0m\u001b[0m\n\u001b[1;32m----> 2\u001b[1;33m \u001b[0mX_train\u001b[0m \u001b[1;33m=\u001b[0m \u001b[0msc\u001b[0m\u001b[1;33m.\u001b[0m\u001b[0mfit_transform\u001b[0m\u001b[1;33m(\u001b[0m\u001b[0mX_train\u001b[0m\u001b[1;33m)\u001b[0m\u001b[1;33m\u001b[0m\u001b[1;33m\u001b[0m\u001b[0m\n\u001b[0m\u001b[0;32m      3\u001b[0m \u001b[0mX_test\u001b[0m \u001b[1;33m=\u001b[0m \u001b[0msc\u001b[0m\u001b[1;33m.\u001b[0m\u001b[0mfit_transform\u001b[0m\u001b[1;33m(\u001b[0m\u001b[0mX_test\u001b[0m\u001b[1;33m)\u001b[0m\u001b[1;33m\u001b[0m\u001b[1;33m\u001b[0m\u001b[0m\n\u001b[0;32m      4\u001b[0m \u001b[0my_train\u001b[0m \u001b[1;33m=\u001b[0m \u001b[0my_train\u001b[0m\u001b[1;33m.\u001b[0m\u001b[0mvalues\u001b[0m\u001b[1;33m\u001b[0m\u001b[1;33m\u001b[0m\u001b[0m\n\u001b[0;32m      5\u001b[0m \u001b[0my_test\u001b[0m \u001b[1;33m=\u001b[0m \u001b[0my_test\u001b[0m\u001b[1;33m.\u001b[0m\u001b[0mvalues\u001b[0m\u001b[1;33m\u001b[0m\u001b[1;33m\u001b[0m\u001b[0m\n",
      "\u001b[1;32m~\\AppData\\Roaming\\Python\\Python311\\site-packages\\sklearn\\utils\\_set_output.py\u001b[0m in \u001b[0;36m?\u001b[1;34m(self, X, *args, **kwargs)\u001b[0m\n\u001b[0;32m    314\u001b[0m     \u001b[1;33m@\u001b[0m\u001b[0mwraps\u001b[0m\u001b[1;33m(\u001b[0m\u001b[0mf\u001b[0m\u001b[1;33m)\u001b[0m\u001b[1;33m\u001b[0m\u001b[1;33m\u001b[0m\u001b[0m\n\u001b[0;32m    315\u001b[0m     \u001b[1;32mdef\u001b[0m \u001b[0mwrapped\u001b[0m\u001b[1;33m(\u001b[0m\u001b[0mself\u001b[0m\u001b[1;33m,\u001b[0m \u001b[0mX\u001b[0m\u001b[1;33m,\u001b[0m \u001b[1;33m*\u001b[0m\u001b[0margs\u001b[0m\u001b[1;33m,\u001b[0m \u001b[1;33m**\u001b[0m\u001b[0mkwargs\u001b[0m\u001b[1;33m)\u001b[0m\u001b[1;33m:\u001b[0m\u001b[1;33m\u001b[0m\u001b[1;33m\u001b[0m\u001b[0m\n\u001b[1;32m--> 316\u001b[1;33m         \u001b[0mdata_to_wrap\u001b[0m \u001b[1;33m=\u001b[0m \u001b[0mf\u001b[0m\u001b[1;33m(\u001b[0m\u001b[0mself\u001b[0m\u001b[1;33m,\u001b[0m \u001b[0mX\u001b[0m\u001b[1;33m,\u001b[0m \u001b[1;33m*\u001b[0m\u001b[0margs\u001b[0m\u001b[1;33m,\u001b[0m \u001b[1;33m**\u001b[0m\u001b[0mkwargs\u001b[0m\u001b[1;33m)\u001b[0m\u001b[1;33m\u001b[0m\u001b[1;33m\u001b[0m\u001b[0m\n\u001b[0m\u001b[0;32m    317\u001b[0m         \u001b[1;32mif\u001b[0m \u001b[0misinstance\u001b[0m\u001b[1;33m(\u001b[0m\u001b[0mdata_to_wrap\u001b[0m\u001b[1;33m,\u001b[0m \u001b[0mtuple\u001b[0m\u001b[1;33m)\u001b[0m\u001b[1;33m:\u001b[0m\u001b[1;33m\u001b[0m\u001b[1;33m\u001b[0m\u001b[0m\n\u001b[0;32m    318\u001b[0m             \u001b[1;31m# only wrap the first output for cross decomposition\u001b[0m\u001b[1;33m\u001b[0m\u001b[1;33m\u001b[0m\u001b[0m\n\u001b[0;32m    319\u001b[0m             return_tuple = (\n",
      "\u001b[1;32m~\\AppData\\Roaming\\Python\\Python311\\site-packages\\sklearn\\base.py\u001b[0m in \u001b[0;36m?\u001b[1;34m(self, X, y, **fit_params)\u001b[0m\n\u001b[0;32m   1094\u001b[0m                 )\n\u001b[0;32m   1095\u001b[0m \u001b[1;33m\u001b[0m\u001b[0m\n\u001b[0;32m   1096\u001b[0m         \u001b[1;32mif\u001b[0m \u001b[0my\u001b[0m \u001b[1;32mis\u001b[0m \u001b[1;32mNone\u001b[0m\u001b[1;33m:\u001b[0m\u001b[1;33m\u001b[0m\u001b[1;33m\u001b[0m\u001b[0m\n\u001b[0;32m   1097\u001b[0m             \u001b[1;31m# fit method of arity 1 (unsupervised transformation)\u001b[0m\u001b[1;33m\u001b[0m\u001b[1;33m\u001b[0m\u001b[0m\n\u001b[1;32m-> 1098\u001b[1;33m             \u001b[1;32mreturn\u001b[0m \u001b[0mself\u001b[0m\u001b[1;33m.\u001b[0m\u001b[0mfit\u001b[0m\u001b[1;33m(\u001b[0m\u001b[0mX\u001b[0m\u001b[1;33m,\u001b[0m \u001b[1;33m**\u001b[0m\u001b[0mfit_params\u001b[0m\u001b[1;33m)\u001b[0m\u001b[1;33m.\u001b[0m\u001b[0mtransform\u001b[0m\u001b[1;33m(\u001b[0m\u001b[0mX\u001b[0m\u001b[1;33m)\u001b[0m\u001b[1;33m\u001b[0m\u001b[1;33m\u001b[0m\u001b[0m\n\u001b[0m\u001b[0;32m   1099\u001b[0m         \u001b[1;32melse\u001b[0m\u001b[1;33m:\u001b[0m\u001b[1;33m\u001b[0m\u001b[1;33m\u001b[0m\u001b[0m\n\u001b[0;32m   1100\u001b[0m             \u001b[1;31m# fit method of arity 2 (supervised transformation)\u001b[0m\u001b[1;33m\u001b[0m\u001b[1;33m\u001b[0m\u001b[0m\n\u001b[0;32m   1101\u001b[0m             \u001b[1;32mreturn\u001b[0m \u001b[0mself\u001b[0m\u001b[1;33m.\u001b[0m\u001b[0mfit\u001b[0m\u001b[1;33m(\u001b[0m\u001b[0mX\u001b[0m\u001b[1;33m,\u001b[0m \u001b[0my\u001b[0m\u001b[1;33m,\u001b[0m \u001b[1;33m**\u001b[0m\u001b[0mfit_params\u001b[0m\u001b[1;33m)\u001b[0m\u001b[1;33m.\u001b[0m\u001b[0mtransform\u001b[0m\u001b[1;33m(\u001b[0m\u001b[0mX\u001b[0m\u001b[1;33m)\u001b[0m\u001b[1;33m\u001b[0m\u001b[1;33m\u001b[0m\u001b[0m\n",
      "\u001b[1;32m~\\AppData\\Roaming\\Python\\Python311\\site-packages\\sklearn\\preprocessing\\_data.py\u001b[0m in \u001b[0;36m?\u001b[1;34m(self, X, y, sample_weight)\u001b[0m\n\u001b[0;32m    874\u001b[0m             \u001b[0mFitted\u001b[0m \u001b[0mscaler\u001b[0m\u001b[1;33m.\u001b[0m\u001b[1;33m\u001b[0m\u001b[1;33m\u001b[0m\u001b[0m\n\u001b[0;32m    875\u001b[0m         \"\"\"\n\u001b[0;32m    876\u001b[0m         \u001b[1;31m# Reset internal state before fitting\u001b[0m\u001b[1;33m\u001b[0m\u001b[1;33m\u001b[0m\u001b[0m\n\u001b[0;32m    877\u001b[0m         \u001b[0mself\u001b[0m\u001b[1;33m.\u001b[0m\u001b[0m_reset\u001b[0m\u001b[1;33m(\u001b[0m\u001b[1;33m)\u001b[0m\u001b[1;33m\u001b[0m\u001b[1;33m\u001b[0m\u001b[0m\n\u001b[1;32m--> 878\u001b[1;33m         \u001b[1;32mreturn\u001b[0m \u001b[0mself\u001b[0m\u001b[1;33m.\u001b[0m\u001b[0mpartial_fit\u001b[0m\u001b[1;33m(\u001b[0m\u001b[0mX\u001b[0m\u001b[1;33m,\u001b[0m \u001b[0my\u001b[0m\u001b[1;33m,\u001b[0m \u001b[0msample_weight\u001b[0m\u001b[1;33m)\u001b[0m\u001b[1;33m\u001b[0m\u001b[1;33m\u001b[0m\u001b[0m\n\u001b[0m",
      "\u001b[1;32m~\\AppData\\Roaming\\Python\\Python311\\site-packages\\sklearn\\base.py\u001b[0m in \u001b[0;36m?\u001b[1;34m(estimator, *args, **kwargs)\u001b[0m\n\u001b[0;32m   1469\u001b[0m                 skip_parameter_validation=(\n\u001b[0;32m   1470\u001b[0m                     \u001b[0mprefer_skip_nested_validation\u001b[0m \u001b[1;32mor\u001b[0m \u001b[0mglobal_skip_validation\u001b[0m\u001b[1;33m\u001b[0m\u001b[1;33m\u001b[0m\u001b[0m\n\u001b[0;32m   1471\u001b[0m                 )\n\u001b[0;32m   1472\u001b[0m             ):\n\u001b[1;32m-> 1473\u001b[1;33m                 \u001b[1;32mreturn\u001b[0m \u001b[0mfit_method\u001b[0m\u001b[1;33m(\u001b[0m\u001b[0mestimator\u001b[0m\u001b[1;33m,\u001b[0m \u001b[1;33m*\u001b[0m\u001b[0margs\u001b[0m\u001b[1;33m,\u001b[0m \u001b[1;33m**\u001b[0m\u001b[0mkwargs\u001b[0m\u001b[1;33m)\u001b[0m\u001b[1;33m\u001b[0m\u001b[1;33m\u001b[0m\u001b[0m\n\u001b[0m",
      "\u001b[1;32m~\\AppData\\Roaming\\Python\\Python311\\site-packages\\sklearn\\preprocessing\\_data.py\u001b[0m in \u001b[0;36m?\u001b[1;34m(self, X, y, sample_weight)\u001b[0m\n\u001b[0;32m    910\u001b[0m         \u001b[0mself\u001b[0m \u001b[1;33m:\u001b[0m \u001b[0mobject\u001b[0m\u001b[1;33m\u001b[0m\u001b[1;33m\u001b[0m\u001b[0m\n\u001b[0;32m    911\u001b[0m             \u001b[0mFitted\u001b[0m \u001b[0mscaler\u001b[0m\u001b[1;33m.\u001b[0m\u001b[1;33m\u001b[0m\u001b[1;33m\u001b[0m\u001b[0m\n\u001b[0;32m    912\u001b[0m         \"\"\"\n\u001b[0;32m    913\u001b[0m         \u001b[0mfirst_call\u001b[0m \u001b[1;33m=\u001b[0m \u001b[1;32mnot\u001b[0m \u001b[0mhasattr\u001b[0m\u001b[1;33m(\u001b[0m\u001b[0mself\u001b[0m\u001b[1;33m,\u001b[0m \u001b[1;34m\"n_samples_seen_\"\u001b[0m\u001b[1;33m)\u001b[0m\u001b[1;33m\u001b[0m\u001b[1;33m\u001b[0m\u001b[0m\n\u001b[1;32m--> 914\u001b[1;33m         X = self._validate_data(\n\u001b[0m\u001b[0;32m    915\u001b[0m             \u001b[0mX\u001b[0m\u001b[1;33m,\u001b[0m\u001b[1;33m\u001b[0m\u001b[1;33m\u001b[0m\u001b[0m\n\u001b[0;32m    916\u001b[0m             \u001b[0maccept_sparse\u001b[0m\u001b[1;33m=\u001b[0m\u001b[1;33m(\u001b[0m\u001b[1;34m\"csr\"\u001b[0m\u001b[1;33m,\u001b[0m \u001b[1;34m\"csc\"\u001b[0m\u001b[1;33m)\u001b[0m\u001b[1;33m,\u001b[0m\u001b[1;33m\u001b[0m\u001b[1;33m\u001b[0m\u001b[0m\n\u001b[0;32m    917\u001b[0m             \u001b[0mdtype\u001b[0m\u001b[1;33m=\u001b[0m\u001b[0mFLOAT_DTYPES\u001b[0m\u001b[1;33m,\u001b[0m\u001b[1;33m\u001b[0m\u001b[1;33m\u001b[0m\u001b[0m\n",
      "\u001b[1;32m~\\AppData\\Roaming\\Python\\Python311\\site-packages\\sklearn\\base.py\u001b[0m in \u001b[0;36m?\u001b[1;34m(self, X, y, reset, validate_separately, cast_to_ndarray, **check_params)\u001b[0m\n\u001b[0;32m    629\u001b[0m                 \u001b[0mout\u001b[0m \u001b[1;33m=\u001b[0m \u001b[0my\u001b[0m\u001b[1;33m\u001b[0m\u001b[1;33m\u001b[0m\u001b[0m\n\u001b[0;32m    630\u001b[0m             \u001b[1;32melse\u001b[0m\u001b[1;33m:\u001b[0m\u001b[1;33m\u001b[0m\u001b[1;33m\u001b[0m\u001b[0m\n\u001b[0;32m    631\u001b[0m                 \u001b[0mout\u001b[0m \u001b[1;33m=\u001b[0m \u001b[0mX\u001b[0m\u001b[1;33m,\u001b[0m \u001b[0my\u001b[0m\u001b[1;33m\u001b[0m\u001b[1;33m\u001b[0m\u001b[0m\n\u001b[0;32m    632\u001b[0m         \u001b[1;32melif\u001b[0m \u001b[1;32mnot\u001b[0m \u001b[0mno_val_X\u001b[0m \u001b[1;32mand\u001b[0m \u001b[0mno_val_y\u001b[0m\u001b[1;33m:\u001b[0m\u001b[1;33m\u001b[0m\u001b[1;33m\u001b[0m\u001b[0m\n\u001b[1;32m--> 633\u001b[1;33m             \u001b[0mout\u001b[0m \u001b[1;33m=\u001b[0m \u001b[0mcheck_array\u001b[0m\u001b[1;33m(\u001b[0m\u001b[0mX\u001b[0m\u001b[1;33m,\u001b[0m \u001b[0minput_name\u001b[0m\u001b[1;33m=\u001b[0m\u001b[1;34m\"X\"\u001b[0m\u001b[1;33m,\u001b[0m \u001b[1;33m**\u001b[0m\u001b[0mcheck_params\u001b[0m\u001b[1;33m)\u001b[0m\u001b[1;33m\u001b[0m\u001b[1;33m\u001b[0m\u001b[0m\n\u001b[0m\u001b[0;32m    634\u001b[0m         \u001b[1;32melif\u001b[0m \u001b[0mno_val_X\u001b[0m \u001b[1;32mand\u001b[0m \u001b[1;32mnot\u001b[0m \u001b[0mno_val_y\u001b[0m\u001b[1;33m:\u001b[0m\u001b[1;33m\u001b[0m\u001b[1;33m\u001b[0m\u001b[0m\n\u001b[0;32m    635\u001b[0m             \u001b[0mout\u001b[0m \u001b[1;33m=\u001b[0m \u001b[0m_check_y\u001b[0m\u001b[1;33m(\u001b[0m\u001b[0my\u001b[0m\u001b[1;33m,\u001b[0m \u001b[1;33m**\u001b[0m\u001b[0mcheck_params\u001b[0m\u001b[1;33m)\u001b[0m\u001b[1;33m\u001b[0m\u001b[1;33m\u001b[0m\u001b[0m\n\u001b[0;32m    636\u001b[0m         \u001b[1;32melse\u001b[0m\u001b[1;33m:\u001b[0m\u001b[1;33m\u001b[0m\u001b[1;33m\u001b[0m\u001b[0m\n",
      "\u001b[1;32m~\\AppData\\Roaming\\Python\\Python311\\site-packages\\sklearn\\utils\\validation.py\u001b[0m in \u001b[0;36m?\u001b[1;34m(array, accept_sparse, accept_large_sparse, dtype, order, copy, force_writeable, force_all_finite, ensure_2d, allow_nd, ensure_min_samples, ensure_min_features, estimator, input_name)\u001b[0m\n\u001b[0;32m   1009\u001b[0m                         )\n\u001b[0;32m   1010\u001b[0m                     \u001b[0marray\u001b[0m \u001b[1;33m=\u001b[0m \u001b[0mxp\u001b[0m\u001b[1;33m.\u001b[0m\u001b[0mastype\u001b[0m\u001b[1;33m(\u001b[0m\u001b[0marray\u001b[0m\u001b[1;33m,\u001b[0m \u001b[0mdtype\u001b[0m\u001b[1;33m,\u001b[0m \u001b[0mcopy\u001b[0m\u001b[1;33m=\u001b[0m\u001b[1;32mFalse\u001b[0m\u001b[1;33m)\u001b[0m\u001b[1;33m\u001b[0m\u001b[1;33m\u001b[0m\u001b[0m\n\u001b[0;32m   1011\u001b[0m                 \u001b[1;32melse\u001b[0m\u001b[1;33m:\u001b[0m\u001b[1;33m\u001b[0m\u001b[1;33m\u001b[0m\u001b[0m\n\u001b[0;32m   1012\u001b[0m                     \u001b[0marray\u001b[0m \u001b[1;33m=\u001b[0m \u001b[0m_asarray_with_order\u001b[0m\u001b[1;33m(\u001b[0m\u001b[0marray\u001b[0m\u001b[1;33m,\u001b[0m \u001b[0morder\u001b[0m\u001b[1;33m=\u001b[0m\u001b[0morder\u001b[0m\u001b[1;33m,\u001b[0m \u001b[0mdtype\u001b[0m\u001b[1;33m=\u001b[0m\u001b[0mdtype\u001b[0m\u001b[1;33m,\u001b[0m \u001b[0mxp\u001b[0m\u001b[1;33m=\u001b[0m\u001b[0mxp\u001b[0m\u001b[1;33m)\u001b[0m\u001b[1;33m\u001b[0m\u001b[1;33m\u001b[0m\u001b[0m\n\u001b[1;32m-> 1013\u001b[1;33m             \u001b[1;32mexcept\u001b[0m \u001b[0mComplexWarning\u001b[0m \u001b[1;32mas\u001b[0m \u001b[0mcomplex_warning\u001b[0m\u001b[1;33m:\u001b[0m\u001b[1;33m\u001b[0m\u001b[1;33m\u001b[0m\u001b[0m\n\u001b[0m\u001b[0;32m   1014\u001b[0m                 raise ValueError(\n\u001b[0;32m   1015\u001b[0m                     \u001b[1;34m\"Complex data not supported\\n{}\\n\"\u001b[0m\u001b[1;33m.\u001b[0m\u001b[0mformat\u001b[0m\u001b[1;33m(\u001b[0m\u001b[0marray\u001b[0m\u001b[1;33m)\u001b[0m\u001b[1;33m\u001b[0m\u001b[1;33m\u001b[0m\u001b[0m\n\u001b[0;32m   1016\u001b[0m                 ) from complex_warning\n",
      "\u001b[1;32m~\\AppData\\Roaming\\Python\\Python311\\site-packages\\sklearn\\utils\\_array_api.py\u001b[0m in \u001b[0;36m?\u001b[1;34m(array, dtype, order, copy, xp, device)\u001b[0m\n\u001b[0;32m    741\u001b[0m         \u001b[1;31m# Use NumPy API to support order\u001b[0m\u001b[1;33m\u001b[0m\u001b[1;33m\u001b[0m\u001b[0m\n\u001b[0;32m    742\u001b[0m         \u001b[1;32mif\u001b[0m \u001b[0mcopy\u001b[0m \u001b[1;32mis\u001b[0m \u001b[1;32mTrue\u001b[0m\u001b[1;33m:\u001b[0m\u001b[1;33m\u001b[0m\u001b[1;33m\u001b[0m\u001b[0m\n\u001b[0;32m    743\u001b[0m             \u001b[0marray\u001b[0m \u001b[1;33m=\u001b[0m \u001b[0mnumpy\u001b[0m\u001b[1;33m.\u001b[0m\u001b[0marray\u001b[0m\u001b[1;33m(\u001b[0m\u001b[0marray\u001b[0m\u001b[1;33m,\u001b[0m \u001b[0morder\u001b[0m\u001b[1;33m=\u001b[0m\u001b[0morder\u001b[0m\u001b[1;33m,\u001b[0m \u001b[0mdtype\u001b[0m\u001b[1;33m=\u001b[0m\u001b[0mdtype\u001b[0m\u001b[1;33m)\u001b[0m\u001b[1;33m\u001b[0m\u001b[1;33m\u001b[0m\u001b[0m\n\u001b[0;32m    744\u001b[0m         \u001b[1;32melse\u001b[0m\u001b[1;33m:\u001b[0m\u001b[1;33m\u001b[0m\u001b[1;33m\u001b[0m\u001b[0m\n\u001b[1;32m--> 745\u001b[1;33m             \u001b[0marray\u001b[0m \u001b[1;33m=\u001b[0m \u001b[0mnumpy\u001b[0m\u001b[1;33m.\u001b[0m\u001b[0masarray\u001b[0m\u001b[1;33m(\u001b[0m\u001b[0marray\u001b[0m\u001b[1;33m,\u001b[0m \u001b[0morder\u001b[0m\u001b[1;33m=\u001b[0m\u001b[0morder\u001b[0m\u001b[1;33m,\u001b[0m \u001b[0mdtype\u001b[0m\u001b[1;33m=\u001b[0m\u001b[0mdtype\u001b[0m\u001b[1;33m)\u001b[0m\u001b[1;33m\u001b[0m\u001b[1;33m\u001b[0m\u001b[0m\n\u001b[0m\u001b[0;32m    746\u001b[0m \u001b[1;33m\u001b[0m\u001b[0m\n\u001b[0;32m    747\u001b[0m         \u001b[1;31m# At this point array is a NumPy ndarray. We convert it to an array\u001b[0m\u001b[1;33m\u001b[0m\u001b[1;33m\u001b[0m\u001b[0m\n\u001b[0;32m    748\u001b[0m         \u001b[1;31m# container that is consistent with the input's namespace.\u001b[0m\u001b[1;33m\u001b[0m\u001b[1;33m\u001b[0m\u001b[0m\n",
      "\u001b[1;32m~\\AppData\\Roaming\\Python\\Python311\\site-packages\\pandas\\core\\generic.py\u001b[0m in \u001b[0;36m?\u001b[1;34m(self, dtype, copy)\u001b[0m\n\u001b[0;32m   2149\u001b[0m     def __array__(\n\u001b[0;32m   2150\u001b[0m         \u001b[0mself\u001b[0m\u001b[1;33m,\u001b[0m \u001b[0mdtype\u001b[0m\u001b[1;33m:\u001b[0m \u001b[0mnpt\u001b[0m\u001b[1;33m.\u001b[0m\u001b[0mDTypeLike\u001b[0m \u001b[1;33m|\u001b[0m \u001b[1;32mNone\u001b[0m \u001b[1;33m=\u001b[0m \u001b[1;32mNone\u001b[0m\u001b[1;33m,\u001b[0m \u001b[0mcopy\u001b[0m\u001b[1;33m:\u001b[0m \u001b[0mbool_t\u001b[0m \u001b[1;33m|\u001b[0m \u001b[1;32mNone\u001b[0m \u001b[1;33m=\u001b[0m \u001b[1;32mNone\u001b[0m\u001b[1;33m\u001b[0m\u001b[1;33m\u001b[0m\u001b[0m\n\u001b[0;32m   2151\u001b[0m     ) -> np.ndarray:\n\u001b[0;32m   2152\u001b[0m         \u001b[0mvalues\u001b[0m \u001b[1;33m=\u001b[0m \u001b[0mself\u001b[0m\u001b[1;33m.\u001b[0m\u001b[0m_values\u001b[0m\u001b[1;33m\u001b[0m\u001b[1;33m\u001b[0m\u001b[0m\n\u001b[1;32m-> 2153\u001b[1;33m         \u001b[0marr\u001b[0m \u001b[1;33m=\u001b[0m \u001b[0mnp\u001b[0m\u001b[1;33m.\u001b[0m\u001b[0masarray\u001b[0m\u001b[1;33m(\u001b[0m\u001b[0mvalues\u001b[0m\u001b[1;33m,\u001b[0m \u001b[0mdtype\u001b[0m\u001b[1;33m=\u001b[0m\u001b[0mdtype\u001b[0m\u001b[1;33m)\u001b[0m\u001b[1;33m\u001b[0m\u001b[1;33m\u001b[0m\u001b[0m\n\u001b[0m\u001b[0;32m   2154\u001b[0m         if (\n\u001b[0;32m   2155\u001b[0m             \u001b[0mastype_is_view\u001b[0m\u001b[1;33m(\u001b[0m\u001b[0mvalues\u001b[0m\u001b[1;33m.\u001b[0m\u001b[0mdtype\u001b[0m\u001b[1;33m,\u001b[0m \u001b[0marr\u001b[0m\u001b[1;33m.\u001b[0m\u001b[0mdtype\u001b[0m\u001b[1;33m)\u001b[0m\u001b[1;33m\u001b[0m\u001b[1;33m\u001b[0m\u001b[0m\n\u001b[0;32m   2156\u001b[0m             \u001b[1;32mand\u001b[0m \u001b[0musing_copy_on_write\u001b[0m\u001b[1;33m(\u001b[0m\u001b[1;33m)\u001b[0m\u001b[1;33m\u001b[0m\u001b[1;33m\u001b[0m\u001b[0m\n",
      "\u001b[1;31mValueError\u001b[0m: could not convert string to float: 'Bajaj Pulsar 150cc'"
     ]
    }
   ],
   "source": [
    "sc = StandardScaler()\n",
    "X_train = sc.fit_transform(X_train)\n",
    "X_test = sc.fit_transform(X_test)\n",
    "y_train = y_train.values\n",
    "y_test = y_test.values"
   ]
  },
  {
   "cell_type": "code",
   "execution_count": 20,
   "id": "77275e2d",
   "metadata": {
    "execution": {
     "iopub.execute_input": "2021-10-20T09:40:06.698063Z",
     "iopub.status.busy": "2021-10-20T09:40:06.696964Z",
     "iopub.status.idle": "2021-10-20T09:40:06.995481Z",
     "shell.execute_reply": "2021-10-20T09:40:06.994793Z",
     "shell.execute_reply.started": "2021-10-20T09:18:01.527360Z"
    },
    "papermill": {
     "duration": 0.335448,
     "end_time": "2021-10-20T09:40:06.995630",
     "exception": false,
     "start_time": "2021-10-20T09:40:06.660182",
     "status": "completed"
    },
    "tags": []
   },
   "outputs": [],
   "source": [
    "## Models :\n",
    "from sklearn.linear_model import LinearRegression ,Lasso\n",
    "from sklearn.ensemble import RandomForestRegressor,AdaBoostRegressor\n",
    "from sklearn.neighbors import KNeighborsRegressor\n",
    "from xgboost import XGBRegressor \n",
    "from sklearn.metrics import mean_absolute_error"
   ]
  },
  {
   "cell_type": "code",
   "execution_count": 21,
   "id": "dac80790",
   "metadata": {
    "execution": {
     "iopub.execute_input": "2021-10-20T09:40:07.064687Z",
     "iopub.status.busy": "2021-10-20T09:40:07.063416Z",
     "iopub.status.idle": "2021-10-20T09:40:07.066657Z",
     "shell.execute_reply": "2021-10-20T09:40:07.066070Z",
     "shell.execute_reply.started": "2021-10-20T09:18:01.533627Z"
    },
    "papermill": {
     "duration": 0.040814,
     "end_time": "2021-10-20T09:40:07.066807",
     "exception": false,
     "start_time": "2021-10-20T09:40:07.025993",
     "status": "completed"
    },
    "tags": []
   },
   "outputs": [],
   "source": [
    "def train_model(model):\n",
    "    model.fit(X_train , y_train)\n",
    "    preds = model.predict(X_test)\n",
    "    loss = mean_absolute_error(y_test , preds)\n",
    "    return loss\n",
    "\n",
    "def DataFrame_loss(dict_of_models):\n",
    "    loss_models = []\n",
    "    for name , model in dict_of_models.items():\n",
    "        loss = train_model(model)\n",
    "        loss_models.append(loss)\n",
    "    data = {'Models' : dict_of_models.keys(),'Loss' : loss_models}\n",
    "    return pd.DataFrame(data = data)"
   ]
  },
  {
   "cell_type": "code",
   "execution_count": 14,
   "id": "14d8e6d1",
   "metadata": {
    "execution": {
     "iopub.execute_input": "2021-10-20T09:40:07.131281Z",
     "iopub.status.busy": "2021-10-20T09:40:07.130517Z",
     "iopub.status.idle": "2021-10-20T09:41:02.187063Z",
     "shell.execute_reply": "2021-10-20T09:41:02.187592Z",
     "shell.execute_reply.started": "2021-10-20T09:18:01.547792Z"
    },
    "papermill": {
     "duration": 55.09017,
     "end_time": "2021-10-20T09:41:02.187780",
     "exception": false,
     "start_time": "2021-10-20T09:40:07.097610",
     "status": "completed"
    },
    "tags": []
   },
   "outputs": [
    {
     "ename": "ValueError",
     "evalue": "could not convert string to float: 'Bajaj Pulsar 150cc'",
     "output_type": "error",
     "traceback": [
      "\u001b[1;31m---------------------------------------------------------------------------\u001b[0m",
      "\u001b[1;31mValueError\u001b[0m                                Traceback (most recent call last)",
      "\u001b[1;32m~\\AppData\\Local\\Temp\\ipykernel_18896\\3248147840.py\u001b[0m in \u001b[0;36m?\u001b[1;34m()\u001b[0m\n\u001b[0;32m      3\u001b[0m                \u001b[1;34m'Lasso'\u001b[0m \u001b[1;33m:\u001b[0m \u001b[0mLasso\u001b[0m\u001b[1;33m(\u001b[0m\u001b[1;33m)\u001b[0m\u001b[1;33m,\u001b[0m\u001b[1;33m\u001b[0m\u001b[1;33m\u001b[0m\u001b[0m\n\u001b[0;32m      4\u001b[0m                \u001b[1;34m'RandomForest'\u001b[0m \u001b[1;33m:\u001b[0m \u001b[0mRandomForestRegressor\u001b[0m\u001b[1;33m(\u001b[0m\u001b[1;33m)\u001b[0m\u001b[1;33m,\u001b[0m\u001b[1;33m\u001b[0m\u001b[1;33m\u001b[0m\u001b[0m\n\u001b[0;32m      5\u001b[0m                \u001b[1;34m'AdaBoost'\u001b[0m \u001b[1;33m:\u001b[0m \u001b[0mAdaBoostRegressor\u001b[0m\u001b[1;33m(\u001b[0m\u001b[1;33m)\u001b[0m\u001b[1;33m,\u001b[0m\u001b[1;33m\u001b[0m\u001b[1;33m\u001b[0m\u001b[0m\n\u001b[0;32m      6\u001b[0m                'Xgboost' : XGBRegressor(),}\n\u001b[1;32m----> 7\u001b[1;33m \u001b[0mDataFrame_loss\u001b[0m\u001b[1;33m(\u001b[0m\u001b[0mmodels_dict\u001b[0m\u001b[1;33m)\u001b[0m\u001b[1;33m\u001b[0m\u001b[1;33m\u001b[0m\u001b[0m\n\u001b[0m",
      "\u001b[1;32m~\\AppData\\Local\\Temp\\ipykernel_18896\\1492756663.py\u001b[0m in \u001b[0;36m?\u001b[1;34m(dict_of_models)\u001b[0m\n\u001b[0;32m      7\u001b[0m \u001b[1;32mdef\u001b[0m \u001b[0mDataFrame_loss\u001b[0m\u001b[1;33m(\u001b[0m\u001b[0mdict_of_models\u001b[0m\u001b[1;33m)\u001b[0m\u001b[1;33m:\u001b[0m\u001b[1;33m\u001b[0m\u001b[1;33m\u001b[0m\u001b[0m\n\u001b[0;32m      8\u001b[0m     \u001b[0mloss_models\u001b[0m \u001b[1;33m=\u001b[0m \u001b[1;33m[\u001b[0m\u001b[1;33m]\u001b[0m\u001b[1;33m\u001b[0m\u001b[1;33m\u001b[0m\u001b[0m\n\u001b[0;32m      9\u001b[0m     \u001b[1;32mfor\u001b[0m \u001b[0mname\u001b[0m \u001b[1;33m,\u001b[0m \u001b[0mmodel\u001b[0m \u001b[1;32min\u001b[0m \u001b[0mdict_of_models\u001b[0m\u001b[1;33m.\u001b[0m\u001b[0mitems\u001b[0m\u001b[1;33m(\u001b[0m\u001b[1;33m)\u001b[0m\u001b[1;33m:\u001b[0m\u001b[1;33m\u001b[0m\u001b[1;33m\u001b[0m\u001b[0m\n\u001b[1;32m---> 10\u001b[1;33m         \u001b[0mloss\u001b[0m \u001b[1;33m=\u001b[0m \u001b[0mtrain_model\u001b[0m\u001b[1;33m(\u001b[0m\u001b[0mmodel\u001b[0m\u001b[1;33m)\u001b[0m\u001b[1;33m\u001b[0m\u001b[1;33m\u001b[0m\u001b[0m\n\u001b[0m\u001b[0;32m     11\u001b[0m         \u001b[0mloss_models\u001b[0m\u001b[1;33m.\u001b[0m\u001b[0mappend\u001b[0m\u001b[1;33m(\u001b[0m\u001b[0mloss\u001b[0m\u001b[1;33m)\u001b[0m\u001b[1;33m\u001b[0m\u001b[1;33m\u001b[0m\u001b[0m\n\u001b[0;32m     12\u001b[0m     \u001b[0mdata\u001b[0m \u001b[1;33m=\u001b[0m \u001b[1;33m{\u001b[0m\u001b[1;34m'Models'\u001b[0m \u001b[1;33m:\u001b[0m \u001b[0mdict_of_models\u001b[0m\u001b[1;33m.\u001b[0m\u001b[0mkeys\u001b[0m\u001b[1;33m(\u001b[0m\u001b[1;33m)\u001b[0m\u001b[1;33m,\u001b[0m\u001b[1;34m'Loss'\u001b[0m \u001b[1;33m:\u001b[0m \u001b[0mloss_models\u001b[0m\u001b[1;33m}\u001b[0m\u001b[1;33m\u001b[0m\u001b[1;33m\u001b[0m\u001b[0m\n\u001b[0;32m     13\u001b[0m     \u001b[1;32mreturn\u001b[0m \u001b[0mpd\u001b[0m\u001b[1;33m.\u001b[0m\u001b[0mDataFrame\u001b[0m\u001b[1;33m(\u001b[0m\u001b[0mdata\u001b[0m \u001b[1;33m=\u001b[0m \u001b[0mdata\u001b[0m\u001b[1;33m)\u001b[0m\u001b[1;33m\u001b[0m\u001b[1;33m\u001b[0m\u001b[0m\n",
      "\u001b[1;32m~\\AppData\\Local\\Temp\\ipykernel_18896\\1492756663.py\u001b[0m in \u001b[0;36m?\u001b[1;34m(model)\u001b[0m\n\u001b[0;32m      1\u001b[0m \u001b[1;32mdef\u001b[0m \u001b[0mtrain_model\u001b[0m\u001b[1;33m(\u001b[0m\u001b[0mmodel\u001b[0m\u001b[1;33m)\u001b[0m\u001b[1;33m:\u001b[0m\u001b[1;33m\u001b[0m\u001b[1;33m\u001b[0m\u001b[0m\n\u001b[1;32m----> 2\u001b[1;33m     \u001b[0mmodel\u001b[0m\u001b[1;33m.\u001b[0m\u001b[0mfit\u001b[0m\u001b[1;33m(\u001b[0m\u001b[0mX_train\u001b[0m \u001b[1;33m,\u001b[0m \u001b[0my_train\u001b[0m\u001b[1;33m)\u001b[0m\u001b[1;33m\u001b[0m\u001b[1;33m\u001b[0m\u001b[0m\n\u001b[0m\u001b[0;32m      3\u001b[0m     \u001b[0mpreds\u001b[0m \u001b[1;33m=\u001b[0m \u001b[0mmodel\u001b[0m\u001b[1;33m.\u001b[0m\u001b[0mpredict\u001b[0m\u001b[1;33m(\u001b[0m\u001b[0mX_test\u001b[0m\u001b[1;33m)\u001b[0m\u001b[1;33m\u001b[0m\u001b[1;33m\u001b[0m\u001b[0m\n\u001b[0;32m      4\u001b[0m     \u001b[0mloss\u001b[0m \u001b[1;33m=\u001b[0m \u001b[0mmean_absolute_error\u001b[0m\u001b[1;33m(\u001b[0m\u001b[0my_test\u001b[0m \u001b[1;33m,\u001b[0m \u001b[0mpreds\u001b[0m\u001b[1;33m)\u001b[0m\u001b[1;33m\u001b[0m\u001b[1;33m\u001b[0m\u001b[0m\n\u001b[0;32m      5\u001b[0m     \u001b[1;32mreturn\u001b[0m \u001b[0mloss\u001b[0m\u001b[1;33m\u001b[0m\u001b[1;33m\u001b[0m\u001b[0m\n",
      "\u001b[1;32m~\\AppData\\Roaming\\Python\\Python311\\site-packages\\sklearn\\base.py\u001b[0m in \u001b[0;36m?\u001b[1;34m(estimator, *args, **kwargs)\u001b[0m\n\u001b[0;32m   1469\u001b[0m                 skip_parameter_validation=(\n\u001b[0;32m   1470\u001b[0m                     \u001b[0mprefer_skip_nested_validation\u001b[0m \u001b[1;32mor\u001b[0m \u001b[0mglobal_skip_validation\u001b[0m\u001b[1;33m\u001b[0m\u001b[1;33m\u001b[0m\u001b[0m\n\u001b[0;32m   1471\u001b[0m                 )\n\u001b[0;32m   1472\u001b[0m             ):\n\u001b[1;32m-> 1473\u001b[1;33m                 \u001b[1;32mreturn\u001b[0m \u001b[0mfit_method\u001b[0m\u001b[1;33m(\u001b[0m\u001b[0mestimator\u001b[0m\u001b[1;33m,\u001b[0m \u001b[1;33m*\u001b[0m\u001b[0margs\u001b[0m\u001b[1;33m,\u001b[0m \u001b[1;33m**\u001b[0m\u001b[0mkwargs\u001b[0m\u001b[1;33m)\u001b[0m\u001b[1;33m\u001b[0m\u001b[1;33m\u001b[0m\u001b[0m\n\u001b[0m",
      "\u001b[1;32m~\\AppData\\Roaming\\Python\\Python311\\site-packages\\sklearn\\neighbors\\_regression.py\u001b[0m in \u001b[0;36m?\u001b[1;34m(self, X, y)\u001b[0m\n\u001b[0;32m    223\u001b[0m         \u001b[1;33m-\u001b[0m\u001b[1;33m-\u001b[0m\u001b[1;33m-\u001b[0m\u001b[1;33m-\u001b[0m\u001b[1;33m-\u001b[0m\u001b[1;33m-\u001b[0m\u001b[1;33m-\u001b[0m\u001b[1;33m\u001b[0m\u001b[1;33m\u001b[0m\u001b[0m\n\u001b[0;32m    224\u001b[0m         \u001b[0mself\u001b[0m \u001b[1;33m:\u001b[0m \u001b[0mKNeighborsRegressor\u001b[0m\u001b[1;33m\u001b[0m\u001b[1;33m\u001b[0m\u001b[0m\n\u001b[0;32m    225\u001b[0m             \u001b[0mThe\u001b[0m \u001b[0mfitted\u001b[0m \u001b[0mk\u001b[0m\u001b[1;33m-\u001b[0m\u001b[0mnearest\u001b[0m \u001b[0mneighbors\u001b[0m \u001b[0mregressor\u001b[0m\u001b[1;33m.\u001b[0m\u001b[1;33m\u001b[0m\u001b[1;33m\u001b[0m\u001b[0m\n\u001b[0;32m    226\u001b[0m         \"\"\"\n\u001b[1;32m--> 227\u001b[1;33m         \u001b[1;32mreturn\u001b[0m \u001b[0mself\u001b[0m\u001b[1;33m.\u001b[0m\u001b[0m_fit\u001b[0m\u001b[1;33m(\u001b[0m\u001b[0mX\u001b[0m\u001b[1;33m,\u001b[0m \u001b[0my\u001b[0m\u001b[1;33m)\u001b[0m\u001b[1;33m\u001b[0m\u001b[1;33m\u001b[0m\u001b[0m\n\u001b[0m",
      "\u001b[1;32m~\\AppData\\Roaming\\Python\\Python311\\site-packages\\sklearn\\neighbors\\_base.py\u001b[0m in \u001b[0;36m?\u001b[1;34m(self, X, y)\u001b[0m\n\u001b[0;32m    472\u001b[0m     \u001b[1;32mdef\u001b[0m \u001b[0m_fit\u001b[0m\u001b[1;33m(\u001b[0m\u001b[0mself\u001b[0m\u001b[1;33m,\u001b[0m \u001b[0mX\u001b[0m\u001b[1;33m,\u001b[0m \u001b[0my\u001b[0m\u001b[1;33m=\u001b[0m\u001b[1;32mNone\u001b[0m\u001b[1;33m)\u001b[0m\u001b[1;33m:\u001b[0m\u001b[1;33m\u001b[0m\u001b[1;33m\u001b[0m\u001b[0m\n\u001b[0;32m    473\u001b[0m         \u001b[1;32mif\u001b[0m \u001b[0mself\u001b[0m\u001b[1;33m.\u001b[0m\u001b[0m_get_tags\u001b[0m\u001b[1;33m(\u001b[0m\u001b[1;33m)\u001b[0m\u001b[1;33m[\u001b[0m\u001b[1;34m\"requires_y\"\u001b[0m\u001b[1;33m]\u001b[0m\u001b[1;33m:\u001b[0m\u001b[1;33m\u001b[0m\u001b[1;33m\u001b[0m\u001b[0m\n\u001b[0;32m    474\u001b[0m             \u001b[1;32mif\u001b[0m \u001b[1;32mnot\u001b[0m \u001b[0misinstance\u001b[0m\u001b[1;33m(\u001b[0m\u001b[0mX\u001b[0m\u001b[1;33m,\u001b[0m \u001b[1;33m(\u001b[0m\u001b[0mKDTree\u001b[0m\u001b[1;33m,\u001b[0m \u001b[0mBallTree\u001b[0m\u001b[1;33m,\u001b[0m \u001b[0mNeighborsBase\u001b[0m\u001b[1;33m)\u001b[0m\u001b[1;33m)\u001b[0m\u001b[1;33m:\u001b[0m\u001b[1;33m\u001b[0m\u001b[1;33m\u001b[0m\u001b[0m\n\u001b[1;32m--> 475\u001b[1;33m                 X, y = self._validate_data(\n\u001b[0m\u001b[0;32m    476\u001b[0m                     \u001b[0mX\u001b[0m\u001b[1;33m,\u001b[0m \u001b[0my\u001b[0m\u001b[1;33m,\u001b[0m \u001b[0maccept_sparse\u001b[0m\u001b[1;33m=\u001b[0m\u001b[1;34m\"csr\"\u001b[0m\u001b[1;33m,\u001b[0m \u001b[0mmulti_output\u001b[0m\u001b[1;33m=\u001b[0m\u001b[1;32mTrue\u001b[0m\u001b[1;33m,\u001b[0m \u001b[0morder\u001b[0m\u001b[1;33m=\u001b[0m\u001b[1;34m\"C\"\u001b[0m\u001b[1;33m\u001b[0m\u001b[1;33m\u001b[0m\u001b[0m\n\u001b[0;32m    477\u001b[0m                 )\n\u001b[0;32m    478\u001b[0m \u001b[1;33m\u001b[0m\u001b[0m\n",
      "\u001b[1;32m~\\AppData\\Roaming\\Python\\Python311\\site-packages\\sklearn\\base.py\u001b[0m in \u001b[0;36m?\u001b[1;34m(self, X, y, reset, validate_separately, cast_to_ndarray, **check_params)\u001b[0m\n\u001b[0;32m    646\u001b[0m                 \u001b[1;32mif\u001b[0m \u001b[1;34m\"estimator\"\u001b[0m \u001b[1;32mnot\u001b[0m \u001b[1;32min\u001b[0m \u001b[0mcheck_y_params\u001b[0m\u001b[1;33m:\u001b[0m\u001b[1;33m\u001b[0m\u001b[1;33m\u001b[0m\u001b[0m\n\u001b[0;32m    647\u001b[0m                     \u001b[0mcheck_y_params\u001b[0m \u001b[1;33m=\u001b[0m \u001b[1;33m{\u001b[0m\u001b[1;33m**\u001b[0m\u001b[0mdefault_check_params\u001b[0m\u001b[1;33m,\u001b[0m \u001b[1;33m**\u001b[0m\u001b[0mcheck_y_params\u001b[0m\u001b[1;33m}\u001b[0m\u001b[1;33m\u001b[0m\u001b[1;33m\u001b[0m\u001b[0m\n\u001b[0;32m    648\u001b[0m                 \u001b[0my\u001b[0m \u001b[1;33m=\u001b[0m \u001b[0mcheck_array\u001b[0m\u001b[1;33m(\u001b[0m\u001b[0my\u001b[0m\u001b[1;33m,\u001b[0m \u001b[0minput_name\u001b[0m\u001b[1;33m=\u001b[0m\u001b[1;34m\"y\"\u001b[0m\u001b[1;33m,\u001b[0m \u001b[1;33m**\u001b[0m\u001b[0mcheck_y_params\u001b[0m\u001b[1;33m)\u001b[0m\u001b[1;33m\u001b[0m\u001b[1;33m\u001b[0m\u001b[0m\n\u001b[0;32m    649\u001b[0m             \u001b[1;32melse\u001b[0m\u001b[1;33m:\u001b[0m\u001b[1;33m\u001b[0m\u001b[1;33m\u001b[0m\u001b[0m\n\u001b[1;32m--> 650\u001b[1;33m                 \u001b[0mX\u001b[0m\u001b[1;33m,\u001b[0m \u001b[0my\u001b[0m \u001b[1;33m=\u001b[0m \u001b[0mcheck_X_y\u001b[0m\u001b[1;33m(\u001b[0m\u001b[0mX\u001b[0m\u001b[1;33m,\u001b[0m \u001b[0my\u001b[0m\u001b[1;33m,\u001b[0m \u001b[1;33m**\u001b[0m\u001b[0mcheck_params\u001b[0m\u001b[1;33m)\u001b[0m\u001b[1;33m\u001b[0m\u001b[1;33m\u001b[0m\u001b[0m\n\u001b[0m\u001b[0;32m    651\u001b[0m             \u001b[0mout\u001b[0m \u001b[1;33m=\u001b[0m \u001b[0mX\u001b[0m\u001b[1;33m,\u001b[0m \u001b[0my\u001b[0m\u001b[1;33m\u001b[0m\u001b[1;33m\u001b[0m\u001b[0m\n\u001b[0;32m    652\u001b[0m \u001b[1;33m\u001b[0m\u001b[0m\n\u001b[0;32m    653\u001b[0m         \u001b[1;32mif\u001b[0m \u001b[1;32mnot\u001b[0m \u001b[0mno_val_X\u001b[0m \u001b[1;32mand\u001b[0m \u001b[0mcheck_params\u001b[0m\u001b[1;33m.\u001b[0m\u001b[0mget\u001b[0m\u001b[1;33m(\u001b[0m\u001b[1;34m\"ensure_2d\"\u001b[0m\u001b[1;33m,\u001b[0m \u001b[1;32mTrue\u001b[0m\u001b[1;33m)\u001b[0m\u001b[1;33m:\u001b[0m\u001b[1;33m\u001b[0m\u001b[1;33m\u001b[0m\u001b[0m\n",
      "\u001b[1;32m~\\AppData\\Roaming\\Python\\Python311\\site-packages\\sklearn\\utils\\validation.py\u001b[0m in \u001b[0;36m?\u001b[1;34m(X, y, accept_sparse, accept_large_sparse, dtype, order, copy, force_writeable, force_all_finite, ensure_2d, allow_nd, multi_output, ensure_min_samples, ensure_min_features, y_numeric, estimator)\u001b[0m\n\u001b[0;32m   1297\u001b[0m         raise ValueError(\n\u001b[0;32m   1298\u001b[0m             \u001b[1;34mf\"{estimator_name} requires y to be passed, but the target y is None\"\u001b[0m\u001b[1;33m\u001b[0m\u001b[1;33m\u001b[0m\u001b[0m\n\u001b[0;32m   1299\u001b[0m         )\n\u001b[0;32m   1300\u001b[0m \u001b[1;33m\u001b[0m\u001b[0m\n\u001b[1;32m-> 1301\u001b[1;33m     X = check_array(\n\u001b[0m\u001b[0;32m   1302\u001b[0m         \u001b[0mX\u001b[0m\u001b[1;33m,\u001b[0m\u001b[1;33m\u001b[0m\u001b[1;33m\u001b[0m\u001b[0m\n\u001b[0;32m   1303\u001b[0m         \u001b[0maccept_sparse\u001b[0m\u001b[1;33m=\u001b[0m\u001b[0maccept_sparse\u001b[0m\u001b[1;33m,\u001b[0m\u001b[1;33m\u001b[0m\u001b[1;33m\u001b[0m\u001b[0m\n\u001b[0;32m   1304\u001b[0m         \u001b[0maccept_large_sparse\u001b[0m\u001b[1;33m=\u001b[0m\u001b[0maccept_large_sparse\u001b[0m\u001b[1;33m,\u001b[0m\u001b[1;33m\u001b[0m\u001b[1;33m\u001b[0m\u001b[0m\n",
      "\u001b[1;32m~\\AppData\\Roaming\\Python\\Python311\\site-packages\\sklearn\\utils\\validation.py\u001b[0m in \u001b[0;36m?\u001b[1;34m(array, accept_sparse, accept_large_sparse, dtype, order, copy, force_writeable, force_all_finite, ensure_2d, allow_nd, ensure_min_samples, ensure_min_features, estimator, input_name)\u001b[0m\n\u001b[0;32m   1009\u001b[0m                         )\n\u001b[0;32m   1010\u001b[0m                     \u001b[0marray\u001b[0m \u001b[1;33m=\u001b[0m \u001b[0mxp\u001b[0m\u001b[1;33m.\u001b[0m\u001b[0mastype\u001b[0m\u001b[1;33m(\u001b[0m\u001b[0marray\u001b[0m\u001b[1;33m,\u001b[0m \u001b[0mdtype\u001b[0m\u001b[1;33m,\u001b[0m \u001b[0mcopy\u001b[0m\u001b[1;33m=\u001b[0m\u001b[1;32mFalse\u001b[0m\u001b[1;33m)\u001b[0m\u001b[1;33m\u001b[0m\u001b[1;33m\u001b[0m\u001b[0m\n\u001b[0;32m   1011\u001b[0m                 \u001b[1;32melse\u001b[0m\u001b[1;33m:\u001b[0m\u001b[1;33m\u001b[0m\u001b[1;33m\u001b[0m\u001b[0m\n\u001b[0;32m   1012\u001b[0m                     \u001b[0marray\u001b[0m \u001b[1;33m=\u001b[0m \u001b[0m_asarray_with_order\u001b[0m\u001b[1;33m(\u001b[0m\u001b[0marray\u001b[0m\u001b[1;33m,\u001b[0m \u001b[0morder\u001b[0m\u001b[1;33m=\u001b[0m\u001b[0morder\u001b[0m\u001b[1;33m,\u001b[0m \u001b[0mdtype\u001b[0m\u001b[1;33m=\u001b[0m\u001b[0mdtype\u001b[0m\u001b[1;33m,\u001b[0m \u001b[0mxp\u001b[0m\u001b[1;33m=\u001b[0m\u001b[0mxp\u001b[0m\u001b[1;33m)\u001b[0m\u001b[1;33m\u001b[0m\u001b[1;33m\u001b[0m\u001b[0m\n\u001b[1;32m-> 1013\u001b[1;33m             \u001b[1;32mexcept\u001b[0m \u001b[0mComplexWarning\u001b[0m \u001b[1;32mas\u001b[0m \u001b[0mcomplex_warning\u001b[0m\u001b[1;33m:\u001b[0m\u001b[1;33m\u001b[0m\u001b[1;33m\u001b[0m\u001b[0m\n\u001b[0m\u001b[0;32m   1014\u001b[0m                 raise ValueError(\n\u001b[0;32m   1015\u001b[0m                     \u001b[1;34m\"Complex data not supported\\n{}\\n\"\u001b[0m\u001b[1;33m.\u001b[0m\u001b[0mformat\u001b[0m\u001b[1;33m(\u001b[0m\u001b[0marray\u001b[0m\u001b[1;33m)\u001b[0m\u001b[1;33m\u001b[0m\u001b[1;33m\u001b[0m\u001b[0m\n\u001b[0;32m   1016\u001b[0m                 ) from complex_warning\n",
      "\u001b[1;32m~\\AppData\\Roaming\\Python\\Python311\\site-packages\\sklearn\\utils\\_array_api.py\u001b[0m in \u001b[0;36m?\u001b[1;34m(array, dtype, order, copy, xp, device)\u001b[0m\n\u001b[0;32m    741\u001b[0m         \u001b[1;31m# Use NumPy API to support order\u001b[0m\u001b[1;33m\u001b[0m\u001b[1;33m\u001b[0m\u001b[0m\n\u001b[0;32m    742\u001b[0m         \u001b[1;32mif\u001b[0m \u001b[0mcopy\u001b[0m \u001b[1;32mis\u001b[0m \u001b[1;32mTrue\u001b[0m\u001b[1;33m:\u001b[0m\u001b[1;33m\u001b[0m\u001b[1;33m\u001b[0m\u001b[0m\n\u001b[0;32m    743\u001b[0m             \u001b[0marray\u001b[0m \u001b[1;33m=\u001b[0m \u001b[0mnumpy\u001b[0m\u001b[1;33m.\u001b[0m\u001b[0marray\u001b[0m\u001b[1;33m(\u001b[0m\u001b[0marray\u001b[0m\u001b[1;33m,\u001b[0m \u001b[0morder\u001b[0m\u001b[1;33m=\u001b[0m\u001b[0morder\u001b[0m\u001b[1;33m,\u001b[0m \u001b[0mdtype\u001b[0m\u001b[1;33m=\u001b[0m\u001b[0mdtype\u001b[0m\u001b[1;33m)\u001b[0m\u001b[1;33m\u001b[0m\u001b[1;33m\u001b[0m\u001b[0m\n\u001b[0;32m    744\u001b[0m         \u001b[1;32melse\u001b[0m\u001b[1;33m:\u001b[0m\u001b[1;33m\u001b[0m\u001b[1;33m\u001b[0m\u001b[0m\n\u001b[1;32m--> 745\u001b[1;33m             \u001b[0marray\u001b[0m \u001b[1;33m=\u001b[0m \u001b[0mnumpy\u001b[0m\u001b[1;33m.\u001b[0m\u001b[0masarray\u001b[0m\u001b[1;33m(\u001b[0m\u001b[0marray\u001b[0m\u001b[1;33m,\u001b[0m \u001b[0morder\u001b[0m\u001b[1;33m=\u001b[0m\u001b[0morder\u001b[0m\u001b[1;33m,\u001b[0m \u001b[0mdtype\u001b[0m\u001b[1;33m=\u001b[0m\u001b[0mdtype\u001b[0m\u001b[1;33m)\u001b[0m\u001b[1;33m\u001b[0m\u001b[1;33m\u001b[0m\u001b[0m\n\u001b[0m\u001b[0;32m    746\u001b[0m \u001b[1;33m\u001b[0m\u001b[0m\n\u001b[0;32m    747\u001b[0m         \u001b[1;31m# At this point array is a NumPy ndarray. We convert it to an array\u001b[0m\u001b[1;33m\u001b[0m\u001b[1;33m\u001b[0m\u001b[0m\n\u001b[0;32m    748\u001b[0m         \u001b[1;31m# container that is consistent with the input's namespace.\u001b[0m\u001b[1;33m\u001b[0m\u001b[1;33m\u001b[0m\u001b[0m\n",
      "\u001b[1;32m~\\AppData\\Roaming\\Python\\Python311\\site-packages\\pandas\\core\\generic.py\u001b[0m in \u001b[0;36m?\u001b[1;34m(self, dtype, copy)\u001b[0m\n\u001b[0;32m   2149\u001b[0m     def __array__(\n\u001b[0;32m   2150\u001b[0m         \u001b[0mself\u001b[0m\u001b[1;33m,\u001b[0m \u001b[0mdtype\u001b[0m\u001b[1;33m:\u001b[0m \u001b[0mnpt\u001b[0m\u001b[1;33m.\u001b[0m\u001b[0mDTypeLike\u001b[0m \u001b[1;33m|\u001b[0m \u001b[1;32mNone\u001b[0m \u001b[1;33m=\u001b[0m \u001b[1;32mNone\u001b[0m\u001b[1;33m,\u001b[0m \u001b[0mcopy\u001b[0m\u001b[1;33m:\u001b[0m \u001b[0mbool_t\u001b[0m \u001b[1;33m|\u001b[0m \u001b[1;32mNone\u001b[0m \u001b[1;33m=\u001b[0m \u001b[1;32mNone\u001b[0m\u001b[1;33m\u001b[0m\u001b[1;33m\u001b[0m\u001b[0m\n\u001b[0;32m   2151\u001b[0m     ) -> np.ndarray:\n\u001b[0;32m   2152\u001b[0m         \u001b[0mvalues\u001b[0m \u001b[1;33m=\u001b[0m \u001b[0mself\u001b[0m\u001b[1;33m.\u001b[0m\u001b[0m_values\u001b[0m\u001b[1;33m\u001b[0m\u001b[1;33m\u001b[0m\u001b[0m\n\u001b[1;32m-> 2153\u001b[1;33m         \u001b[0marr\u001b[0m \u001b[1;33m=\u001b[0m \u001b[0mnp\u001b[0m\u001b[1;33m.\u001b[0m\u001b[0masarray\u001b[0m\u001b[1;33m(\u001b[0m\u001b[0mvalues\u001b[0m\u001b[1;33m,\u001b[0m \u001b[0mdtype\u001b[0m\u001b[1;33m=\u001b[0m\u001b[0mdtype\u001b[0m\u001b[1;33m)\u001b[0m\u001b[1;33m\u001b[0m\u001b[1;33m\u001b[0m\u001b[0m\n\u001b[0m\u001b[0;32m   2154\u001b[0m         if (\n\u001b[0;32m   2155\u001b[0m             \u001b[0mastype_is_view\u001b[0m\u001b[1;33m(\u001b[0m\u001b[0mvalues\u001b[0m\u001b[1;33m.\u001b[0m\u001b[0mdtype\u001b[0m\u001b[1;33m,\u001b[0m \u001b[0marr\u001b[0m\u001b[1;33m.\u001b[0m\u001b[0mdtype\u001b[0m\u001b[1;33m)\u001b[0m\u001b[1;33m\u001b[0m\u001b[1;33m\u001b[0m\u001b[0m\n\u001b[0;32m   2156\u001b[0m             \u001b[1;32mand\u001b[0m \u001b[0musing_copy_on_write\u001b[0m\u001b[1;33m(\u001b[0m\u001b[1;33m)\u001b[0m\u001b[1;33m\u001b[0m\u001b[1;33m\u001b[0m\u001b[0m\n",
      "\u001b[1;31mValueError\u001b[0m: could not convert string to float: 'Bajaj Pulsar 150cc'"
     ]
    }
   ],
   "source": [
    "models_dict = {'KNN' : KNeighborsRegressor() ,\n",
    "               'Linear Regression' : LinearRegression(),\n",
    "               'Lasso' : Lasso(), \n",
    "               'RandomForest' : RandomForestRegressor(),\n",
    "               'AdaBoost' : AdaBoostRegressor(),\n",
    "               'Xgboost' : XGBRegressor(),}\n",
    "DataFrame_loss(models_dict)"
   ]
  },
  {
   "cell_type": "code",
   "execution_count": 15,
   "id": "bee8f9fc",
   "metadata": {
    "execution": {
     "iopub.execute_input": "2021-10-20T09:41:02.254752Z",
     "iopub.status.busy": "2021-10-20T09:41:02.253798Z",
     "iopub.status.idle": "2021-10-20T09:41:08.104681Z",
     "shell.execute_reply": "2021-10-20T09:41:08.104014Z",
     "shell.execute_reply.started": "2021-10-20T09:18:57.064405Z"
    },
    "papermill": {
     "duration": 5.886437,
     "end_time": "2021-10-20T09:41:08.104874",
     "exception": false,
     "start_time": "2021-10-20T09:41:02.218437",
     "status": "completed"
    },
    "tags": []
   },
   "outputs": [
    {
     "name": "stdout",
     "output_type": "stream",
     "text": [
      "WARNING:tensorflow:From C:\\Users\\jaipr\\AppData\\Roaming\\Python\\Python311\\site-packages\\keras\\src\\losses.py:2976: The name tf.losses.sparse_softmax_cross_entropy is deprecated. Please use tf.compat.v1.losses.sparse_softmax_cross_entropy instead.\n",
      "\n"
     ]
    }
   ],
   "source": [
    "## ANN\n",
    "from keras.models import Sequential\n",
    "from keras.layers import Dense , Dropout"
   ]
  },
  {
   "cell_type": "code",
   "execution_count": 16,
   "id": "e49928ff",
   "metadata": {
    "execution": {
     "iopub.execute_input": "2021-10-20T09:41:08.177204Z",
     "iopub.status.busy": "2021-10-20T09:41:08.176238Z",
     "iopub.status.idle": "2021-10-20T09:41:08.244775Z",
     "shell.execute_reply": "2021-10-20T09:41:08.245375Z",
     "shell.execute_reply.started": "2021-10-20T09:18:57.071258Z"
    },
    "papermill": {
     "duration": 0.107964,
     "end_time": "2021-10-20T09:41:08.245571",
     "exception": false,
     "start_time": "2021-10-20T09:41:08.137607",
     "status": "completed"
    },
    "tags": []
   },
   "outputs": [
    {
     "name": "stdout",
     "output_type": "stream",
     "text": [
      "WARNING:tensorflow:From C:\\Users\\jaipr\\AppData\\Roaming\\Python\\Python311\\site-packages\\keras\\src\\backend.py:873: The name tf.get_default_graph is deprecated. Please use tf.compat.v1.get_default_graph instead.\n",
      "\n"
     ]
    }
   ],
   "source": [
    "def build_model_regression(hidden_units1 , hidden_units2):\n",
    "    model = Sequential()\n",
    "    model.add(Dense(hidden_units1 , activation = \"relu\"))\n",
    "    Dropout(0.2)\n",
    "    model.add(Dense(hidden_units2 , activation = \"relu\"))\n",
    "    Dropout(0.2)\n",
    "    model.add(Dense(1, activation='linear'))\n",
    "    return model\n",
    "\n",
    "model = build_model_regression(64,64)"
   ]
  },
  {
   "cell_type": "code",
   "execution_count": 25,
   "id": "5261b800",
   "metadata": {
    "execution": {
     "iopub.execute_input": "2021-10-20T09:41:08.321214Z",
     "iopub.status.busy": "2021-10-20T09:41:08.320403Z",
     "iopub.status.idle": "2021-10-20T09:42:30.471003Z",
     "shell.execute_reply": "2021-10-20T09:42:30.471568Z",
     "shell.execute_reply.started": "2021-10-20T09:18:57.092208Z"
    },
    "papermill": {
     "duration": 82.194913,
     "end_time": "2021-10-20T09:42:30.471753",
     "exception": false,
     "start_time": "2021-10-20T09:41:08.276840",
     "status": "completed"
    },
    "tags": []
   },
   "outputs": [
    {
     "name": "stderr",
     "output_type": "stream",
     "text": [
      "2021-10-20 09:41:08.439696: I tensorflow/compiler/mlir/mlir_graph_optimization_pass.cc:185] None of the MLIR Optimization Passes are enabled (registered 2)\n"
     ]
    },
    {
     "name": "stdout",
     "output_type": "stream",
     "text": [
      "Epoch 1/100\n",
      "269/269 [==============================] - 2s 4ms/step - loss: 50557.1016 - mae: 50557.1016 - val_loss: 49968.7734 - val_mae: 49968.7734\n",
      "Epoch 2/100\n",
      "269/269 [==============================] - 1s 3ms/step - loss: 44818.4375 - mae: 44818.4375 - val_loss: 38391.5312 - val_mae: 38391.5312\n",
      "Epoch 3/100\n",
      "269/269 [==============================] - 1s 3ms/step - loss: 27624.7441 - mae: 27624.7441 - val_loss: 17856.7402 - val_mae: 17856.7402\n",
      "Epoch 4/100\n",
      "269/269 [==============================] - 1s 3ms/step - loss: 11950.3652 - mae: 11950.3652 - val_loss: 8791.7822 - val_mae: 8791.7822\n",
      "Epoch 5/100\n",
      "269/269 [==============================] - 1s 3ms/step - loss: 6807.0728 - mae: 6807.0728 - val_loss: 5515.2183 - val_mae: 5515.2183\n",
      "Epoch 6/100\n",
      "269/269 [==============================] - 1s 3ms/step - loss: 4768.3643 - mae: 4768.3643 - val_loss: 4218.3105 - val_mae: 4218.3105\n",
      "Epoch 7/100\n",
      "269/269 [==============================] - 1s 3ms/step - loss: 3929.0830 - mae: 3929.0830 - val_loss: 3764.2339 - val_mae: 3764.2339\n",
      "Epoch 8/100\n",
      "269/269 [==============================] - 1s 3ms/step - loss: 3630.9028 - mae: 3630.9028 - val_loss: 3571.2988 - val_mae: 3571.2988\n",
      "Epoch 9/100\n",
      "269/269 [==============================] - 1s 3ms/step - loss: 3462.4170 - mae: 3462.4170 - val_loss: 3441.1462 - val_mae: 3441.1462\n",
      "Epoch 10/100\n",
      "269/269 [==============================] - 1s 3ms/step - loss: 3326.5132 - mae: 3326.5132 - val_loss: 3331.1506 - val_mae: 3331.1506\n",
      "Epoch 11/100\n",
      "269/269 [==============================] - 1s 3ms/step - loss: 3211.2908 - mae: 3211.2908 - val_loss: 3228.0334 - val_mae: 3228.0334\n",
      "Epoch 12/100\n",
      "269/269 [==============================] - 1s 3ms/step - loss: 3115.9839 - mae: 3115.9839 - val_loss: 3133.8303 - val_mae: 3133.8303\n",
      "Epoch 13/100\n",
      "269/269 [==============================] - 1s 3ms/step - loss: 3027.4077 - mae: 3027.4077 - val_loss: 3061.5955 - val_mae: 3061.5955\n",
      "Epoch 14/100\n",
      "269/269 [==============================] - 1s 3ms/step - loss: 2967.3589 - mae: 2967.3589 - val_loss: 3024.2520 - val_mae: 3024.2520\n",
      "Epoch 15/100\n",
      "269/269 [==============================] - 1s 3ms/step - loss: 2918.9097 - mae: 2918.9097 - val_loss: 2975.6367 - val_mae: 2975.6367\n",
      "Epoch 16/100\n",
      "269/269 [==============================] - 1s 3ms/step - loss: 2876.2937 - mae: 2876.2937 - val_loss: 2938.1260 - val_mae: 2938.1260\n",
      "Epoch 17/100\n",
      "269/269 [==============================] - 1s 3ms/step - loss: 2840.3503 - mae: 2840.3503 - val_loss: 2904.0024 - val_mae: 2904.0024\n",
      "Epoch 18/100\n",
      "269/269 [==============================] - 1s 3ms/step - loss: 2806.8745 - mae: 2806.8745 - val_loss: 2876.6636 - val_mae: 2876.6636\n",
      "Epoch 19/100\n",
      "269/269 [==============================] - 1s 3ms/step - loss: 2776.7456 - mae: 2776.7456 - val_loss: 2839.2021 - val_mae: 2839.2021\n",
      "Epoch 20/100\n",
      "269/269 [==============================] - 1s 3ms/step - loss: 2747.8083 - mae: 2747.8083 - val_loss: 2827.2400 - val_mae: 2827.2400\n",
      "Epoch 21/100\n",
      "269/269 [==============================] - 1s 3ms/step - loss: 2723.9656 - mae: 2723.9656 - val_loss: 2795.6370 - val_mae: 2795.6370\n",
      "Epoch 22/100\n",
      "269/269 [==============================] - 1s 3ms/step - loss: 2699.7405 - mae: 2699.7405 - val_loss: 2771.3062 - val_mae: 2771.3062\n",
      "Epoch 23/100\n",
      "269/269 [==============================] - 1s 3ms/step - loss: 2680.6230 - mae: 2680.6230 - val_loss: 2755.4900 - val_mae: 2755.4900\n",
      "Epoch 24/100\n",
      "269/269 [==============================] - 1s 3ms/step - loss: 2658.9563 - mae: 2658.9563 - val_loss: 2739.9512 - val_mae: 2739.9512\n",
      "Epoch 25/100\n",
      "269/269 [==============================] - 1s 3ms/step - loss: 2642.0811 - mae: 2642.0811 - val_loss: 2714.4292 - val_mae: 2714.4292\n",
      "Epoch 26/100\n",
      "269/269 [==============================] - 1s 3ms/step - loss: 2627.1108 - mae: 2627.1108 - val_loss: 2702.7146 - val_mae: 2702.7146\n",
      "Epoch 27/100\n",
      "269/269 [==============================] - 1s 3ms/step - loss: 2608.5684 - mae: 2608.5684 - val_loss: 2687.8840 - val_mae: 2687.8840\n",
      "Epoch 28/100\n",
      "269/269 [==============================] - 1s 4ms/step - loss: 2592.6616 - mae: 2592.6616 - val_loss: 2680.4778 - val_mae: 2680.4778\n",
      "Epoch 29/100\n",
      "269/269 [==============================] - 1s 3ms/step - loss: 2581.0276 - mae: 2581.0276 - val_loss: 2664.3777 - val_mae: 2664.3777\n",
      "Epoch 30/100\n",
      "269/269 [==============================] - 1s 3ms/step - loss: 2570.7166 - mae: 2570.7166 - val_loss: 2654.9675 - val_mae: 2654.9675\n",
      "Epoch 31/100\n",
      "269/269 [==============================] - 1s 3ms/step - loss: 2553.8369 - mae: 2553.8369 - val_loss: 2649.0649 - val_mae: 2649.0649\n",
      "Epoch 32/100\n",
      "269/269 [==============================] - 1s 3ms/step - loss: 2542.6570 - mae: 2542.6570 - val_loss: 2632.4053 - val_mae: 2632.4053\n",
      "Epoch 33/100\n",
      "269/269 [==============================] - 1s 3ms/step - loss: 2531.0701 - mae: 2531.0701 - val_loss: 2620.5625 - val_mae: 2620.5625\n",
      "Epoch 34/100\n",
      "269/269 [==============================] - 1s 3ms/step - loss: 2519.8694 - mae: 2519.8694 - val_loss: 2614.3293 - val_mae: 2614.3293\n",
      "Epoch 35/100\n",
      "269/269 [==============================] - 1s 3ms/step - loss: 2507.2642 - mae: 2507.2642 - val_loss: 2589.8000 - val_mae: 2589.8000\n",
      "Epoch 36/100\n",
      "269/269 [==============================] - 1s 3ms/step - loss: 2497.5327 - mae: 2497.5327 - val_loss: 2588.7114 - val_mae: 2588.7114\n",
      "Epoch 37/100\n",
      "269/269 [==============================] - 1s 3ms/step - loss: 2488.8037 - mae: 2488.8037 - val_loss: 2582.3943 - val_mae: 2582.3943\n",
      "Epoch 38/100\n",
      "269/269 [==============================] - 1s 3ms/step - loss: 2478.9807 - mae: 2478.9807 - val_loss: 2570.6184 - val_mae: 2570.6184\n",
      "Epoch 39/100\n",
      "269/269 [==============================] - 1s 3ms/step - loss: 2470.6960 - mae: 2470.6960 - val_loss: 2559.5217 - val_mae: 2559.5217\n",
      "Epoch 40/100\n",
      "269/269 [==============================] - 1s 3ms/step - loss: 2460.7422 - mae: 2460.7422 - val_loss: 2549.7959 - val_mae: 2549.7959\n",
      "Epoch 41/100\n",
      "269/269 [==============================] - 1s 3ms/step - loss: 2453.8430 - mae: 2453.8430 - val_loss: 2542.5173 - val_mae: 2542.5173\n",
      "Epoch 42/100\n",
      "269/269 [==============================] - 1s 3ms/step - loss: 2445.0017 - mae: 2445.0017 - val_loss: 2541.2371 - val_mae: 2541.2371\n",
      "Epoch 43/100\n",
      "269/269 [==============================] - 1s 3ms/step - loss: 2439.4817 - mae: 2439.4817 - val_loss: 2527.9790 - val_mae: 2527.9790\n",
      "Epoch 44/100\n",
      "269/269 [==============================] - 1s 3ms/step - loss: 2432.4509 - mae: 2432.4509 - val_loss: 2527.1479 - val_mae: 2527.1479\n",
      "Epoch 45/100\n",
      "269/269 [==============================] - 1s 3ms/step - loss: 2424.9006 - mae: 2424.9006 - val_loss: 2512.6414 - val_mae: 2512.6414\n",
      "Epoch 46/100\n",
      "269/269 [==============================] - 1s 3ms/step - loss: 2417.3474 - mae: 2417.3474 - val_loss: 2514.2961 - val_mae: 2514.2961\n",
      "Epoch 47/100\n",
      "269/269 [==============================] - 1s 3ms/step - loss: 2410.9373 - mae: 2410.9373 - val_loss: 2505.3569 - val_mae: 2505.3569\n",
      "Epoch 48/100\n",
      "269/269 [==============================] - 1s 3ms/step - loss: 2408.0667 - mae: 2408.0667 - val_loss: 2495.4746 - val_mae: 2495.4746\n",
      "Epoch 49/100\n",
      "269/269 [==============================] - 1s 3ms/step - loss: 2404.8613 - mae: 2404.8613 - val_loss: 2496.8833 - val_mae: 2496.8833\n",
      "Epoch 50/100\n",
      "269/269 [==============================] - 1s 3ms/step - loss: 2396.7849 - mae: 2396.7849 - val_loss: 2496.0889 - val_mae: 2496.0889\n",
      "Epoch 51/100\n",
      "269/269 [==============================] - 1s 3ms/step - loss: 2392.1819 - mae: 2392.1819 - val_loss: 2485.2649 - val_mae: 2485.2649\n",
      "Epoch 52/100\n",
      "269/269 [==============================] - 1s 3ms/step - loss: 2386.9788 - mae: 2386.9788 - val_loss: 2484.0557 - val_mae: 2484.0557\n",
      "Epoch 53/100\n",
      "269/269 [==============================] - 1s 3ms/step - loss: 2382.5388 - mae: 2382.5388 - val_loss: 2477.4292 - val_mae: 2477.4292\n",
      "Epoch 54/100\n",
      "269/269 [==============================] - 1s 3ms/step - loss: 2379.8823 - mae: 2379.8823 - val_loss: 2473.7437 - val_mae: 2473.7437\n",
      "Epoch 55/100\n",
      "269/269 [==============================] - 1s 3ms/step - loss: 2375.4868 - mae: 2375.4868 - val_loss: 2470.6355 - val_mae: 2470.6355\n",
      "Epoch 56/100\n",
      "269/269 [==============================] - 1s 3ms/step - loss: 2372.2961 - mae: 2372.2961 - val_loss: 2475.3340 - val_mae: 2475.3340\n",
      "Epoch 57/100\n",
      "269/269 [==============================] - 1s 3ms/step - loss: 2367.7380 - mae: 2367.7380 - val_loss: 2466.8296 - val_mae: 2466.8296\n",
      "Epoch 58/100\n",
      "269/269 [==============================] - 1s 3ms/step - loss: 2363.7534 - mae: 2363.7534 - val_loss: 2458.6282 - val_mae: 2458.6282\n",
      "Epoch 59/100\n",
      "269/269 [==============================] - 1s 3ms/step - loss: 2360.8120 - mae: 2360.8120 - val_loss: 2458.1340 - val_mae: 2458.1340\n",
      "Epoch 60/100\n",
      "269/269 [==============================] - 1s 3ms/step - loss: 2358.2646 - mae: 2358.2646 - val_loss: 2456.9136 - val_mae: 2456.9136\n",
      "Epoch 61/100\n",
      "269/269 [==============================] - 1s 3ms/step - loss: 2351.4380 - mae: 2351.4380 - val_loss: 2456.2307 - val_mae: 2456.2307\n",
      "Epoch 62/100\n",
      "269/269 [==============================] - 1s 3ms/step - loss: 2350.1482 - mae: 2350.1482 - val_loss: 2455.2493 - val_mae: 2455.2493\n",
      "Epoch 63/100\n",
      "269/269 [==============================] - 1s 3ms/step - loss: 2345.1980 - mae: 2345.1980 - val_loss: 2451.3896 - val_mae: 2451.3896\n",
      "Epoch 64/100\n",
      "269/269 [==============================] - 1s 3ms/step - loss: 2343.2195 - mae: 2343.2195 - val_loss: 2447.9370 - val_mae: 2447.9370\n",
      "Epoch 65/100\n",
      "269/269 [==============================] - 1s 3ms/step - loss: 2340.0063 - mae: 2340.0063 - val_loss: 2444.1550 - val_mae: 2444.1550\n",
      "Epoch 66/100\n",
      "269/269 [==============================] - 1s 3ms/step - loss: 2335.7837 - mae: 2335.7837 - val_loss: 2439.7349 - val_mae: 2439.7349\n",
      "Epoch 67/100\n",
      "269/269 [==============================] - 1s 3ms/step - loss: 2333.8677 - mae: 2333.8677 - val_loss: 2435.9094 - val_mae: 2435.9094\n",
      "Epoch 68/100\n",
      "269/269 [==============================] - 1s 3ms/step - loss: 2331.3447 - mae: 2331.3447 - val_loss: 2431.9802 - val_mae: 2431.9802\n",
      "Epoch 69/100\n",
      "269/269 [==============================] - 1s 3ms/step - loss: 2330.0347 - mae: 2330.0347 - val_loss: 2430.8945 - val_mae: 2430.8945\n",
      "Epoch 70/100\n",
      "269/269 [==============================] - 1s 4ms/step - loss: 2324.4126 - mae: 2324.4126 - val_loss: 2430.9858 - val_mae: 2430.9858\n",
      "Epoch 71/100\n",
      "269/269 [==============================] - 1s 3ms/step - loss: 2321.8943 - mae: 2321.8943 - val_loss: 2429.7239 - val_mae: 2429.7239\n",
      "Epoch 72/100\n",
      "269/269 [==============================] - 1s 3ms/step - loss: 2319.5176 - mae: 2319.5176 - val_loss: 2430.4075 - val_mae: 2430.4075\n",
      "Epoch 73/100\n",
      "269/269 [==============================] - 1s 3ms/step - loss: 2315.3538 - mae: 2315.3538 - val_loss: 2422.4810 - val_mae: 2422.4810\n",
      "Epoch 74/100\n",
      "269/269 [==============================] - 1s 3ms/step - loss: 2315.2327 - mae: 2315.2327 - val_loss: 2423.2275 - val_mae: 2423.2275\n",
      "Epoch 75/100\n",
      "269/269 [==============================] - 1s 3ms/step - loss: 2311.8076 - mae: 2311.8076 - val_loss: 2422.6785 - val_mae: 2422.6785\n",
      "Epoch 76/100\n",
      "269/269 [==============================] - 1s 3ms/step - loss: 2308.0996 - mae: 2308.0996 - val_loss: 2423.2017 - val_mae: 2423.2017\n",
      "Epoch 77/100\n",
      "269/269 [==============================] - 1s 3ms/step - loss: 2304.7009 - mae: 2304.7009 - val_loss: 2422.1433 - val_mae: 2422.1433\n",
      "Epoch 78/100\n",
      "269/269 [==============================] - 1s 3ms/step - loss: 2304.0942 - mae: 2304.0942 - val_loss: 2414.9917 - val_mae: 2414.9917\n",
      "Epoch 79/100\n",
      "269/269 [==============================] - 1s 3ms/step - loss: 2298.7229 - mae: 2298.7229 - val_loss: 2409.1755 - val_mae: 2409.1755\n",
      "Epoch 80/100\n",
      "269/269 [==============================] - 1s 3ms/step - loss: 2296.9116 - mae: 2296.9116 - val_loss: 2412.9111 - val_mae: 2412.9111\n",
      "Epoch 81/100\n",
      "269/269 [==============================] - 1s 3ms/step - loss: 2293.9382 - mae: 2293.9382 - val_loss: 2404.6023 - val_mae: 2404.6023\n",
      "Epoch 82/100\n",
      "269/269 [==============================] - 1s 3ms/step - loss: 2293.4482 - mae: 2293.4482 - val_loss: 2412.9253 - val_mae: 2412.9253\n",
      "Epoch 83/100\n",
      "269/269 [==============================] - 1s 3ms/step - loss: 2289.5068 - mae: 2289.5068 - val_loss: 2406.0376 - val_mae: 2406.0376\n",
      "Epoch 84/100\n",
      "269/269 [==============================] - 1s 3ms/step - loss: 2286.7000 - mae: 2286.7000 - val_loss: 2405.0525 - val_mae: 2405.0525\n",
      "Epoch 85/100\n",
      "269/269 [==============================] - 1s 3ms/step - loss: 2285.2939 - mae: 2285.2939 - val_loss: 2410.5127 - val_mae: 2410.5127\n",
      "Epoch 86/100\n",
      "269/269 [==============================] - 1s 3ms/step - loss: 2283.5828 - mae: 2283.5828 - val_loss: 2400.0659 - val_mae: 2400.0659\n",
      "Epoch 87/100\n",
      "269/269 [==============================] - 1s 3ms/step - loss: 2278.5420 - mae: 2278.5420 - val_loss: 2401.2791 - val_mae: 2401.2791\n",
      "Epoch 88/100\n",
      "269/269 [==============================] - 1s 3ms/step - loss: 2276.6895 - mae: 2276.6895 - val_loss: 2397.5098 - val_mae: 2397.5098\n",
      "Epoch 89/100\n",
      "269/269 [==============================] - 1s 3ms/step - loss: 2274.6956 - mae: 2274.6956 - val_loss: 2399.3506 - val_mae: 2399.3506\n",
      "Epoch 90/100\n",
      "269/269 [==============================] - 1s 3ms/step - loss: 2272.8586 - mae: 2272.8586 - val_loss: 2395.2644 - val_mae: 2395.2644\n",
      "Epoch 91/100\n",
      "269/269 [==============================] - 1s 3ms/step - loss: 2271.3723 - mae: 2271.3723 - val_loss: 2398.4360 - val_mae: 2398.4360\n",
      "Epoch 92/100\n",
      "269/269 [==============================] - 1s 3ms/step - loss: 2270.4441 - mae: 2270.4441 - val_loss: 2396.6460 - val_mae: 2396.6460\n",
      "Epoch 93/100\n",
      "269/269 [==============================] - 1s 3ms/step - loss: 2267.2551 - mae: 2267.2551 - val_loss: 2388.0742 - val_mae: 2388.0742\n",
      "Epoch 94/100\n",
      "269/269 [==============================] - 1s 3ms/step - loss: 2264.9558 - mae: 2264.9558 - val_loss: 2396.9148 - val_mae: 2396.9148\n",
      "Epoch 95/100\n",
      "269/269 [==============================] - 1s 3ms/step - loss: 2260.5818 - mae: 2260.5818 - val_loss: 2387.4006 - val_mae: 2387.4006\n",
      "Epoch 96/100\n",
      "269/269 [==============================] - 1s 3ms/step - loss: 2256.3479 - mae: 2256.3479 - val_loss: 2386.9839 - val_mae: 2386.9839\n",
      "Epoch 97/100\n",
      "269/269 [==============================] - 1s 3ms/step - loss: 2256.4893 - mae: 2256.4893 - val_loss: 2382.3445 - val_mae: 2382.3445\n",
      "Epoch 98/100\n",
      "269/269 [==============================] - 1s 3ms/step - loss: 2254.9106 - mae: 2254.9106 - val_loss: 2387.6763 - val_mae: 2387.6763\n",
      "Epoch 99/100\n",
      "269/269 [==============================] - 1s 3ms/step - loss: 2252.2939 - mae: 2252.2939 - val_loss: 2381.2981 - val_mae: 2381.2981\n",
      "Epoch 100/100\n",
      "269/269 [==============================] - 1s 3ms/step - loss: 2249.8833 - mae: 2249.8833 - val_loss: 2380.3091 - val_mae: 2380.3091\n"
     ]
    }
   ],
   "source": [
    "# loss function\n",
    "\n",
    "model.compile(\n",
    "    loss='mean_absolute_error', \n",
    "    optimizer='adam' ,\n",
    "    metrics=['mae']\n",
    ")\n",
    "# train the model\n",
    "history = model.fit(\n",
    "    X_train, \n",
    "    y_train, \n",
    "    epochs=100, \n",
    "    batch_size=64,\n",
    "    validation_split=0.2\n",
    ")"
   ]
  },
  {
   "cell_type": "code",
   "execution_count": 26,
   "id": "0bc919a5",
   "metadata": {
    "execution": {
     "iopub.execute_input": "2021-10-20T09:42:31.450490Z",
     "iopub.status.busy": "2021-10-20T09:42:31.449784Z",
     "iopub.status.idle": "2021-10-20T09:42:31.453892Z",
     "shell.execute_reply": "2021-10-20T09:42:31.453002Z",
     "shell.execute_reply.started": "2021-10-20T09:32:39.317255Z"
    },
    "papermill": {
     "duration": 0.497833,
     "end_time": "2021-10-20T09:42:31.454094",
     "exception": false,
     "start_time": "2021-10-20T09:42:30.956261",
     "status": "completed"
    },
    "tags": []
   },
   "outputs": [
    {
     "name": "stdout",
     "output_type": "stream",
     "text": [
      "dict_keys(['loss', 'mae', 'val_loss', 'val_mae'])\n"
     ]
    }
   ],
   "source": [
    "print(history.history.keys())\n",
    "def plot_history(history , key_history):\n",
    "    plt.figure(figsize = (12,8))\n",
    "    plt.plot(history.history[key_history])\n",
    "    plt.plot(history.history['val_'+key_history])\n",
    "    plt.xlabel(\"Epochs\")\n",
    "    plt.ylabel(key_history)\n",
    "    plt.legend([key_history , 'val_'+key_history])"
   ]
  },
  {
   "cell_type": "code",
   "execution_count": 27,
   "id": "642fdad2",
   "metadata": {
    "execution": {
     "iopub.execute_input": "2021-10-20T09:42:32.431113Z",
     "iopub.status.busy": "2021-10-20T09:42:32.430411Z",
     "iopub.status.idle": "2021-10-20T09:42:32.641954Z",
     "shell.execute_reply": "2021-10-20T09:42:32.642441Z",
     "shell.execute_reply.started": "2021-10-20T09:32:39.709139Z"
    },
    "papermill": {
     "duration": 0.700947,
     "end_time": "2021-10-20T09:42:32.642637",
     "exception": false,
     "start_time": "2021-10-20T09:42:31.941690",
     "status": "completed"
    },
    "tags": []
   },
   "outputs": [
    {
     "data": {
      "image/png": "[encoded data removed]",
      "text/plain": [
       "<Figure size 864x576 with 1 Axes>"
      ]
     },
     "metadata": {
      "needs_background": "light"
     },
     "output_type": "display_data"
    }
   ],
   "source": [
    "plot_history(history , 'mae')"
   ]
  },
  {
   "cell_type": "code",
   "execution_count": 28,
   "id": "6c6ff85d",
   "metadata": {
    "execution": {
     "iopub.execute_input": "2021-10-20T09:42:33.621263Z",
     "iopub.status.busy": "2021-10-20T09:42:33.620520Z",
     "iopub.status.idle": "2021-10-20T09:42:33.878052Z",
     "shell.execute_reply": "2021-10-20T09:42:33.877286Z",
     "shell.execute_reply.started": "2021-10-20T09:32:43.449283Z"
    },
    "papermill": {
     "duration": 0.747216,
     "end_time": "2021-10-20T09:42:33.878220",
     "exception": false,
     "start_time": "2021-10-20T09:42:33.131004",
     "status": "completed"
    },
    "tags": []
   },
   "outputs": [
    {
     "data": {
      "image/png": "[encoded data removed]",
      "text/plain": [
       "<Figure size 864x576 with 1 Axes>"
      ]
     },
     "metadata": {
      "needs_background": "light"
     },
     "output_type": "display_data"
    }
   ],
   "source": [
    "plot_history(history , 'loss')"
   ]
  },
  {
   "cell_type": "markdown",
   "id": "39af5437",
   "metadata": {
    "papermill": {
     "duration": 0.486707,
     "end_time": "2021-10-20T09:42:34.857844",
     "exception": false,
     "start_time": "2021-10-20T09:42:34.371137",
     "status": "completed"
    },
    "tags": []
   },
   "source": [
    "<h1>Thank You !</h1>"
   ]
  },
  {
   "cell_type": "code",
   "execution_count": null,
   "id": "690602cc",
   "metadata": {
    "papermill": {
     "duration": 0.490722,
     "end_time": "2021-10-20T09:42:35.843658",
     "exception": false,
     "start_time": "2021-10-20T09:42:35.352936",
     "status": "completed"
    },
    "tags": []
   },
   "outputs": [],
   "source": []
  }
 ],
 "metadata": {
  "kernelspec": {
   "display_name": "Python 3",
   "language": "python",
   "name": "python3"
  },
  "language_info": {
   "codemirror_mode": {
    "name": "ipython",
    "version": 3
   },
   "file_extension": ".py",
   "mimetype": "text/x-python",
   "name": "python",
   "nbconvert_exporter": "python",
   "pygments_lexer": "ipython3",
   "version": "3.11.4"
  },
  "papermill": {
   "default_parameters": {},
   "duration": 166.89818,
   "end_time": "2021-10-20T09:42:39.796041",
   "environment_variables": {},
   "exception": null,
   "input_path": "__notebook__.ipynb",
   "output_path": "__notebook__.ipynb",
   "parameters": {},
   "start_time": "2021-10-20T09:39:52.897861",
   "version": "2.3.3"
  }
 },
 "nbformat": 4,
 "nbformat_minor": 5
}
